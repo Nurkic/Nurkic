{
  "nbformat": 4,
  "nbformat_minor": 0,
  "metadata": {
    "colab": {
      "name": "Untitled0.ipynb",
      "provenance": [],
      "collapsed_sections": [],
      "mount_file_id": "12H15HEkg-uMNSFmwqYuvJWM4kvdeOMnf",
      "authorship_tag": "ABX9TyNhs6d85j7XTpZauIvHBI/m",
      "include_colab_link": true
    },
    "kernelspec": {
      "name": "python3",
      "display_name": "Python 3"
    },
    "accelerator": "GPU",
    "widgets": {
      "application/vnd.jupyter.widget-state+json": {
        "6bd753c60e93494fa3de0dee1e9a7864": {
          "model_module": "@jupyter-widgets/controls",
          "model_name": "HBoxModel",
          "model_module_version": "1.5.0",
          "state": {
            "_view_name": "HBoxView",
            "_dom_classes": [],
            "_model_name": "HBoxModel",
            "_view_module": "@jupyter-widgets/controls",
            "_model_module_version": "1.5.0",
            "_view_count": null,
            "_view_module_version": "1.5.0",
            "box_style": "",
            "layout": "IPY_MODEL_0888e15a88934029b99f5fa7c8016800",
            "_model_module": "@jupyter-widgets/controls",
            "children": [
              "IPY_MODEL_be460faa8afa42639919baccf43a53c1",
              "IPY_MODEL_025d02ea654a4f1498b8d2f1dc1895c3",
              "IPY_MODEL_380bb848b98d4528860ddf166f3be4b4"
            ]
          }
        },
        "0888e15a88934029b99f5fa7c8016800": {
          "model_module": "@jupyter-widgets/base",
          "model_name": "LayoutModel",
          "model_module_version": "1.2.0",
          "state": {
            "_view_name": "LayoutView",
            "grid_template_rows": null,
            "right": null,
            "justify_content": null,
            "_view_module": "@jupyter-widgets/base",
            "overflow": null,
            "_model_module_version": "1.2.0",
            "_view_count": null,
            "flex_flow": null,
            "width": null,
            "min_width": null,
            "border": null,
            "align_items": null,
            "bottom": null,
            "_model_module": "@jupyter-widgets/base",
            "top": null,
            "grid_column": null,
            "overflow_y": null,
            "overflow_x": null,
            "grid_auto_flow": null,
            "grid_area": null,
            "grid_template_columns": null,
            "flex": null,
            "_model_name": "LayoutModel",
            "justify_items": null,
            "grid_row": null,
            "max_height": null,
            "align_content": null,
            "visibility": null,
            "align_self": null,
            "height": null,
            "min_height": null,
            "padding": null,
            "grid_auto_rows": null,
            "grid_gap": null,
            "max_width": null,
            "order": null,
            "_view_module_version": "1.2.0",
            "grid_template_areas": null,
            "object_position": null,
            "object_fit": null,
            "grid_auto_columns": null,
            "margin": null,
            "display": null,
            "left": null
          }
        },
        "be460faa8afa42639919baccf43a53c1": {
          "model_module": "@jupyter-widgets/controls",
          "model_name": "HTMLModel",
          "model_module_version": "1.5.0",
          "state": {
            "_view_name": "HTMLView",
            "style": "IPY_MODEL_87dcb712cbe14fabb77ca377fbe01b8c",
            "_dom_classes": [],
            "description": "",
            "_model_name": "HTMLModel",
            "placeholder": "​",
            "_view_module": "@jupyter-widgets/controls",
            "_model_module_version": "1.5.0",
            "value": "100%",
            "_view_count": null,
            "_view_module_version": "1.5.0",
            "description_tooltip": null,
            "_model_module": "@jupyter-widgets/controls",
            "layout": "IPY_MODEL_a986df535cc8416b86a65948d9289b04"
          }
        },
        "025d02ea654a4f1498b8d2f1dc1895c3": {
          "model_module": "@jupyter-widgets/controls",
          "model_name": "FloatProgressModel",
          "model_module_version": "1.5.0",
          "state": {
            "_view_name": "ProgressView",
            "style": "IPY_MODEL_8218d95f700e469aaf016b396ff31fea",
            "_dom_classes": [],
            "description": "",
            "_model_name": "FloatProgressModel",
            "bar_style": "success",
            "max": 1000,
            "_view_module": "@jupyter-widgets/controls",
            "_model_module_version": "1.5.0",
            "value": 1000,
            "_view_count": null,
            "_view_module_version": "1.5.0",
            "orientation": "horizontal",
            "min": 0,
            "description_tooltip": null,
            "_model_module": "@jupyter-widgets/controls",
            "layout": "IPY_MODEL_d182cc66b50945eda752047e85ec7339"
          }
        },
        "380bb848b98d4528860ddf166f3be4b4": {
          "model_module": "@jupyter-widgets/controls",
          "model_name": "HTMLModel",
          "model_module_version": "1.5.0",
          "state": {
            "_view_name": "HTMLView",
            "style": "IPY_MODEL_a75859ba0bac4f4793575c9d5dceedbb",
            "_dom_classes": [],
            "description": "",
            "_model_name": "HTMLModel",
            "placeholder": "​",
            "_view_module": "@jupyter-widgets/controls",
            "_model_module_version": "1.5.0",
            "value": " 1000/1000 [2:11:18&lt;00:00,  5.02s/it]",
            "_view_count": null,
            "_view_module_version": "1.5.0",
            "description_tooltip": null,
            "_model_module": "@jupyter-widgets/controls",
            "layout": "IPY_MODEL_9272203e43574a6da44ef983f0f70370"
          }
        },
        "87dcb712cbe14fabb77ca377fbe01b8c": {
          "model_module": "@jupyter-widgets/controls",
          "model_name": "DescriptionStyleModel",
          "model_module_version": "1.5.0",
          "state": {
            "_view_name": "StyleView",
            "_model_name": "DescriptionStyleModel",
            "description_width": "",
            "_view_module": "@jupyter-widgets/base",
            "_model_module_version": "1.5.0",
            "_view_count": null,
            "_view_module_version": "1.2.0",
            "_model_module": "@jupyter-widgets/controls"
          }
        },
        "a986df535cc8416b86a65948d9289b04": {
          "model_module": "@jupyter-widgets/base",
          "model_name": "LayoutModel",
          "model_module_version": "1.2.0",
          "state": {
            "_view_name": "LayoutView",
            "grid_template_rows": null,
            "right": null,
            "justify_content": null,
            "_view_module": "@jupyter-widgets/base",
            "overflow": null,
            "_model_module_version": "1.2.0",
            "_view_count": null,
            "flex_flow": null,
            "width": null,
            "min_width": null,
            "border": null,
            "align_items": null,
            "bottom": null,
            "_model_module": "@jupyter-widgets/base",
            "top": null,
            "grid_column": null,
            "overflow_y": null,
            "overflow_x": null,
            "grid_auto_flow": null,
            "grid_area": null,
            "grid_template_columns": null,
            "flex": null,
            "_model_name": "LayoutModel",
            "justify_items": null,
            "grid_row": null,
            "max_height": null,
            "align_content": null,
            "visibility": null,
            "align_self": null,
            "height": null,
            "min_height": null,
            "padding": null,
            "grid_auto_rows": null,
            "grid_gap": null,
            "max_width": null,
            "order": null,
            "_view_module_version": "1.2.0",
            "grid_template_areas": null,
            "object_position": null,
            "object_fit": null,
            "grid_auto_columns": null,
            "margin": null,
            "display": null,
            "left": null
          }
        },
        "8218d95f700e469aaf016b396ff31fea": {
          "model_module": "@jupyter-widgets/controls",
          "model_name": "ProgressStyleModel",
          "model_module_version": "1.5.0",
          "state": {
            "_view_name": "StyleView",
            "_model_name": "ProgressStyleModel",
            "description_width": "",
            "_view_module": "@jupyter-widgets/base",
            "_model_module_version": "1.5.0",
            "_view_count": null,
            "_view_module_version": "1.2.0",
            "bar_color": null,
            "_model_module": "@jupyter-widgets/controls"
          }
        },
        "d182cc66b50945eda752047e85ec7339": {
          "model_module": "@jupyter-widgets/base",
          "model_name": "LayoutModel",
          "model_module_version": "1.2.0",
          "state": {
            "_view_name": "LayoutView",
            "grid_template_rows": null,
            "right": null,
            "justify_content": null,
            "_view_module": "@jupyter-widgets/base",
            "overflow": null,
            "_model_module_version": "1.2.0",
            "_view_count": null,
            "flex_flow": null,
            "width": null,
            "min_width": null,
            "border": null,
            "align_items": null,
            "bottom": null,
            "_model_module": "@jupyter-widgets/base",
            "top": null,
            "grid_column": null,
            "overflow_y": null,
            "overflow_x": null,
            "grid_auto_flow": null,
            "grid_area": null,
            "grid_template_columns": null,
            "flex": null,
            "_model_name": "LayoutModel",
            "justify_items": null,
            "grid_row": null,
            "max_height": null,
            "align_content": null,
            "visibility": null,
            "align_self": null,
            "height": null,
            "min_height": null,
            "padding": null,
            "grid_auto_rows": null,
            "grid_gap": null,
            "max_width": null,
            "order": null,
            "_view_module_version": "1.2.0",
            "grid_template_areas": null,
            "object_position": null,
            "object_fit": null,
            "grid_auto_columns": null,
            "margin": null,
            "display": null,
            "left": null
          }
        },
        "a75859ba0bac4f4793575c9d5dceedbb": {
          "model_module": "@jupyter-widgets/controls",
          "model_name": "DescriptionStyleModel",
          "model_module_version": "1.5.0",
          "state": {
            "_view_name": "StyleView",
            "_model_name": "DescriptionStyleModel",
            "description_width": "",
            "_view_module": "@jupyter-widgets/base",
            "_model_module_version": "1.5.0",
            "_view_count": null,
            "_view_module_version": "1.2.0",
            "_model_module": "@jupyter-widgets/controls"
          }
        },
        "9272203e43574a6da44ef983f0f70370": {
          "model_module": "@jupyter-widgets/base",
          "model_name": "LayoutModel",
          "model_module_version": "1.2.0",
          "state": {
            "_view_name": "LayoutView",
            "grid_template_rows": null,
            "right": null,
            "justify_content": null,
            "_view_module": "@jupyter-widgets/base",
            "overflow": null,
            "_model_module_version": "1.2.0",
            "_view_count": null,
            "flex_flow": null,
            "width": null,
            "min_width": null,
            "border": null,
            "align_items": null,
            "bottom": null,
            "_model_module": "@jupyter-widgets/base",
            "top": null,
            "grid_column": null,
            "overflow_y": null,
            "overflow_x": null,
            "grid_auto_flow": null,
            "grid_area": null,
            "grid_template_columns": null,
            "flex": null,
            "_model_name": "LayoutModel",
            "justify_items": null,
            "grid_row": null,
            "max_height": null,
            "align_content": null,
            "visibility": null,
            "align_self": null,
            "height": null,
            "min_height": null,
            "padding": null,
            "grid_auto_rows": null,
            "grid_gap": null,
            "max_width": null,
            "order": null,
            "_view_module_version": "1.2.0",
            "grid_template_areas": null,
            "object_position": null,
            "object_fit": null,
            "grid_auto_columns": null,
            "margin": null,
            "display": null,
            "left": null
          }
        },
        "3874297ace104aea88e472e55b7d7f35": {
          "model_module": "@jupyter-widgets/controls",
          "model_name": "HBoxModel",
          "model_module_version": "1.5.0",
          "state": {
            "_view_name": "HBoxView",
            "_dom_classes": [],
            "_model_name": "HBoxModel",
            "_view_module": "@jupyter-widgets/controls",
            "_model_module_version": "1.5.0",
            "_view_count": null,
            "_view_module_version": "1.5.0",
            "box_style": "",
            "layout": "IPY_MODEL_3eab6f37e2194d3d8756777e6ad8152e",
            "_model_module": "@jupyter-widgets/controls",
            "children": [
              "IPY_MODEL_6ac928640753448d91fed9060f23c648",
              "IPY_MODEL_7a9faaca536e449db717d2c8d74bc882",
              "IPY_MODEL_8c11286e04c449d7a8337a573da9b1d2"
            ]
          }
        },
        "3eab6f37e2194d3d8756777e6ad8152e": {
          "model_module": "@jupyter-widgets/base",
          "model_name": "LayoutModel",
          "model_module_version": "1.2.0",
          "state": {
            "_view_name": "LayoutView",
            "grid_template_rows": null,
            "right": null,
            "justify_content": null,
            "_view_module": "@jupyter-widgets/base",
            "overflow": null,
            "_model_module_version": "1.2.0",
            "_view_count": null,
            "flex_flow": null,
            "width": null,
            "min_width": null,
            "border": null,
            "align_items": null,
            "bottom": null,
            "_model_module": "@jupyter-widgets/base",
            "top": null,
            "grid_column": null,
            "overflow_y": null,
            "overflow_x": null,
            "grid_auto_flow": null,
            "grid_area": null,
            "grid_template_columns": null,
            "flex": null,
            "_model_name": "LayoutModel",
            "justify_items": null,
            "grid_row": null,
            "max_height": null,
            "align_content": null,
            "visibility": null,
            "align_self": null,
            "height": null,
            "min_height": null,
            "padding": null,
            "grid_auto_rows": null,
            "grid_gap": null,
            "max_width": null,
            "order": null,
            "_view_module_version": "1.2.0",
            "grid_template_areas": null,
            "object_position": null,
            "object_fit": null,
            "grid_auto_columns": null,
            "margin": null,
            "display": null,
            "left": null
          }
        },
        "6ac928640753448d91fed9060f23c648": {
          "model_module": "@jupyter-widgets/controls",
          "model_name": "HTMLModel",
          "model_module_version": "1.5.0",
          "state": {
            "_view_name": "HTMLView",
            "style": "IPY_MODEL_d0f0224d12e94978a893b624faccad24",
            "_dom_classes": [],
            "description": "",
            "_model_name": "HTMLModel",
            "placeholder": "​",
            "_view_module": "@jupyter-widgets/controls",
            "_model_module_version": "1.5.0",
            "value": "100%",
            "_view_count": null,
            "_view_module_version": "1.5.0",
            "description_tooltip": null,
            "_model_module": "@jupyter-widgets/controls",
            "layout": "IPY_MODEL_23fc71be9905447d8832c6a6080bef44"
          }
        },
        "7a9faaca536e449db717d2c8d74bc882": {
          "model_module": "@jupyter-widgets/controls",
          "model_name": "FloatProgressModel",
          "model_module_version": "1.5.0",
          "state": {
            "_view_name": "ProgressView",
            "style": "IPY_MODEL_ffde54a2240e44a1bb45bafd570c4412",
            "_dom_classes": [],
            "description": "",
            "_model_name": "FloatProgressModel",
            "bar_style": "success",
            "max": 1000,
            "_view_module": "@jupyter-widgets/controls",
            "_model_module_version": "1.5.0",
            "value": 1000,
            "_view_count": null,
            "_view_module_version": "1.5.0",
            "orientation": "horizontal",
            "min": 0,
            "description_tooltip": null,
            "_model_module": "@jupyter-widgets/controls",
            "layout": "IPY_MODEL_395508b506914367a1d5e5c9285c448f"
          }
        },
        "8c11286e04c449d7a8337a573da9b1d2": {
          "model_module": "@jupyter-widgets/controls",
          "model_name": "HTMLModel",
          "model_module_version": "1.5.0",
          "state": {
            "_view_name": "HTMLView",
            "style": "IPY_MODEL_8e854fd6040c4678b1a34ff343ddb255",
            "_dom_classes": [],
            "description": "",
            "_model_name": "HTMLModel",
            "placeholder": "​",
            "_view_module": "@jupyter-widgets/controls",
            "_model_module_version": "1.5.0",
            "value": " 1000/1000 [1:31:20&lt;00:00,  4.73s/it]",
            "_view_count": null,
            "_view_module_version": "1.5.0",
            "description_tooltip": null,
            "_model_module": "@jupyter-widgets/controls",
            "layout": "IPY_MODEL_a33e6c685e78461b973c719c6100fd14"
          }
        },
        "d0f0224d12e94978a893b624faccad24": {
          "model_module": "@jupyter-widgets/controls",
          "model_name": "DescriptionStyleModel",
          "model_module_version": "1.5.0",
          "state": {
            "_view_name": "StyleView",
            "_model_name": "DescriptionStyleModel",
            "description_width": "",
            "_view_module": "@jupyter-widgets/base",
            "_model_module_version": "1.5.0",
            "_view_count": null,
            "_view_module_version": "1.2.0",
            "_model_module": "@jupyter-widgets/controls"
          }
        },
        "23fc71be9905447d8832c6a6080bef44": {
          "model_module": "@jupyter-widgets/base",
          "model_name": "LayoutModel",
          "model_module_version": "1.2.0",
          "state": {
            "_view_name": "LayoutView",
            "grid_template_rows": null,
            "right": null,
            "justify_content": null,
            "_view_module": "@jupyter-widgets/base",
            "overflow": null,
            "_model_module_version": "1.2.0",
            "_view_count": null,
            "flex_flow": null,
            "width": null,
            "min_width": null,
            "border": null,
            "align_items": null,
            "bottom": null,
            "_model_module": "@jupyter-widgets/base",
            "top": null,
            "grid_column": null,
            "overflow_y": null,
            "overflow_x": null,
            "grid_auto_flow": null,
            "grid_area": null,
            "grid_template_columns": null,
            "flex": null,
            "_model_name": "LayoutModel",
            "justify_items": null,
            "grid_row": null,
            "max_height": null,
            "align_content": null,
            "visibility": null,
            "align_self": null,
            "height": null,
            "min_height": null,
            "padding": null,
            "grid_auto_rows": null,
            "grid_gap": null,
            "max_width": null,
            "order": null,
            "_view_module_version": "1.2.0",
            "grid_template_areas": null,
            "object_position": null,
            "object_fit": null,
            "grid_auto_columns": null,
            "margin": null,
            "display": null,
            "left": null
          }
        },
        "ffde54a2240e44a1bb45bafd570c4412": {
          "model_module": "@jupyter-widgets/controls",
          "model_name": "ProgressStyleModel",
          "model_module_version": "1.5.0",
          "state": {
            "_view_name": "StyleView",
            "_model_name": "ProgressStyleModel",
            "description_width": "",
            "_view_module": "@jupyter-widgets/base",
            "_model_module_version": "1.5.0",
            "_view_count": null,
            "_view_module_version": "1.2.0",
            "bar_color": null,
            "_model_module": "@jupyter-widgets/controls"
          }
        },
        "395508b506914367a1d5e5c9285c448f": {
          "model_module": "@jupyter-widgets/base",
          "model_name": "LayoutModel",
          "model_module_version": "1.2.0",
          "state": {
            "_view_name": "LayoutView",
            "grid_template_rows": null,
            "right": null,
            "justify_content": null,
            "_view_module": "@jupyter-widgets/base",
            "overflow": null,
            "_model_module_version": "1.2.0",
            "_view_count": null,
            "flex_flow": null,
            "width": null,
            "min_width": null,
            "border": null,
            "align_items": null,
            "bottom": null,
            "_model_module": "@jupyter-widgets/base",
            "top": null,
            "grid_column": null,
            "overflow_y": null,
            "overflow_x": null,
            "grid_auto_flow": null,
            "grid_area": null,
            "grid_template_columns": null,
            "flex": null,
            "_model_name": "LayoutModel",
            "justify_items": null,
            "grid_row": null,
            "max_height": null,
            "align_content": null,
            "visibility": null,
            "align_self": null,
            "height": null,
            "min_height": null,
            "padding": null,
            "grid_auto_rows": null,
            "grid_gap": null,
            "max_width": null,
            "order": null,
            "_view_module_version": "1.2.0",
            "grid_template_areas": null,
            "object_position": null,
            "object_fit": null,
            "grid_auto_columns": null,
            "margin": null,
            "display": null,
            "left": null
          }
        },
        "8e854fd6040c4678b1a34ff343ddb255": {
          "model_module": "@jupyter-widgets/controls",
          "model_name": "DescriptionStyleModel",
          "model_module_version": "1.5.0",
          "state": {
            "_view_name": "StyleView",
            "_model_name": "DescriptionStyleModel",
            "description_width": "",
            "_view_module": "@jupyter-widgets/base",
            "_model_module_version": "1.5.0",
            "_view_count": null,
            "_view_module_version": "1.2.0",
            "_model_module": "@jupyter-widgets/controls"
          }
        },
        "a33e6c685e78461b973c719c6100fd14": {
          "model_module": "@jupyter-widgets/base",
          "model_name": "LayoutModel",
          "model_module_version": "1.2.0",
          "state": {
            "_view_name": "LayoutView",
            "grid_template_rows": null,
            "right": null,
            "justify_content": null,
            "_view_module": "@jupyter-widgets/base",
            "overflow": null,
            "_model_module_version": "1.2.0",
            "_view_count": null,
            "flex_flow": null,
            "width": null,
            "min_width": null,
            "border": null,
            "align_items": null,
            "bottom": null,
            "_model_module": "@jupyter-widgets/base",
            "top": null,
            "grid_column": null,
            "overflow_y": null,
            "overflow_x": null,
            "grid_auto_flow": null,
            "grid_area": null,
            "grid_template_columns": null,
            "flex": null,
            "_model_name": "LayoutModel",
            "justify_items": null,
            "grid_row": null,
            "max_height": null,
            "align_content": null,
            "visibility": null,
            "align_self": null,
            "height": null,
            "min_height": null,
            "padding": null,
            "grid_auto_rows": null,
            "grid_gap": null,
            "max_width": null,
            "order": null,
            "_view_module_version": "1.2.0",
            "grid_template_areas": null,
            "object_position": null,
            "object_fit": null,
            "grid_auto_columns": null,
            "margin": null,
            "display": null,
            "left": null
          }
        }
      }
    }
  },
  "cells": [
    {
      "cell_type": "markdown",
      "metadata": {
        "id": "view-in-github",
        "colab_type": "text"
      },
      "source": [
        "<a href=\"https://colab.research.google.com/github/Nurkic/Nurkic/blob/master/baseline_seti_kn.ipynb\" target=\"_parent\"><img src=\"https://colab.research.google.com/assets/colab-badge.svg\" alt=\"Open In Colab\"/></a>"
      ]
    },
    {
      "cell_type": "code",
      "metadata": {
        "id": "aII_7KClrV6D",
        "colab": {
          "base_uri": "https://localhost:8080/"
        },
        "outputId": "9d364cf2-8161-4f17-9ba5-4bcd0dfc33a6"
      },
      "source": [
        "from google.colab import drive\n",
        "drive.mount('./drive')"
      ],
      "execution_count": 1,
      "outputs": [
        {
          "output_type": "stream",
          "text": [
            "Drive already mounted at ./drive; to attempt to forcibly remount, call drive.mount(\"./drive\", force_remount=True).\n"
          ],
          "name": "stdout"
        }
      ]
    },
    {
      "cell_type": "code",
      "metadata": {
        "colab": {
          "base_uri": "https://localhost:8080/"
        },
        "id": "ocE7o0O_kLZQ",
        "outputId": "f42c1e5d-d0d4-4f74-810c-c9dd6f03da3c"
      },
      "source": [
        "%%bash\n",
        "\n",
        "mkdir -p /root/.kaggle\n",
        "cp -f ./drive/MyDrive/kaggle/kaggle.json /root/.kaggle/\n",
        "chmod 600 /root/.kaggle/kaggle.json\n",
        "pip install -U kaggle\n",
        "\n",
        "mkdir -p /root/.ssh/\n",
        "cd drive/MyDrive/kaggle\n",
        "cp id_rsa id_rsa.pub known_hosts /root/.ssh/"
      ],
      "execution_count": 2,
      "outputs": [
        {
          "output_type": "stream",
          "text": [
            "Requirement already satisfied: kaggle in /usr/local/lib/python3.7/dist-packages (1.5.12)\n",
            "Requirement already satisfied: requests in /usr/local/lib/python3.7/dist-packages (from kaggle) (2.23.0)\n",
            "Requirement already satisfied: python-slugify in /usr/local/lib/python3.7/dist-packages (from kaggle) (5.0.2)\n",
            "Requirement already satisfied: tqdm in /usr/local/lib/python3.7/dist-packages (from kaggle) (4.62.0)\n",
            "Requirement already satisfied: urllib3 in /usr/local/lib/python3.7/dist-packages (from kaggle) (1.24.3)\n",
            "Requirement already satisfied: certifi in /usr/local/lib/python3.7/dist-packages (from kaggle) (2021.5.30)\n",
            "Requirement already satisfied: six>=1.10 in /usr/local/lib/python3.7/dist-packages (from kaggle) (1.15.0)\n",
            "Requirement already satisfied: python-dateutil in /usr/local/lib/python3.7/dist-packages (from kaggle) (2.8.2)\n",
            "Requirement already satisfied: text-unidecode>=1.3 in /usr/local/lib/python3.7/dist-packages (from python-slugify->kaggle) (1.3)\n",
            "Requirement already satisfied: chardet<4,>=3.0.2 in /usr/local/lib/python3.7/dist-packages (from requests->kaggle) (3.0.4)\n",
            "Requirement already satisfied: idna<3,>=2.5 in /usr/local/lib/python3.7/dist-packages (from requests->kaggle) (2.10)\n"
          ],
          "name": "stdout"
        }
      ]
    },
    {
      "cell_type": "code",
      "metadata": {
        "id": "0NY6mlMVBIAV",
        "colab": {
          "base_uri": "https://localhost:8080/"
        },
        "outputId": "a579becd-a0b7-41bc-bb5a-4fa8864699cb"
      },
      "source": [
        "!ls"
      ],
      "execution_count": 3,
      "outputs": [
        {
          "output_type": "stream",
          "text": [
            "drive  sample_data\n"
          ],
          "name": "stdout"
        }
      ]
    },
    {
      "cell_type": "code",
      "metadata": {
        "colab": {
          "base_uri": "https://localhost:8080/"
        },
        "id": "4Z7W2jmBOEUr",
        "outputId": "285eed99-7dad-4728-9cf6-3882cf66d9da"
      },
      "source": [
        "%cd drive/MyDrive/kaggle"
      ],
      "execution_count": 4,
      "outputs": [
        {
          "output_type": "stream",
          "text": [
            "/content/drive/MyDrive/kaggle\n"
          ],
          "name": "stdout"
        }
      ]
    },
    {
      "cell_type": "code",
      "metadata": {
        "id": "zc7D_VaCIcRK"
      },
      "source": [
        "! pip install -q pip install git+https://github.com/ildoonet/pytorch-gradual-warmup-lr.git"
      ],
      "execution_count": 5,
      "outputs": []
    },
    {
      "cell_type": "code",
      "metadata": {
        "colab": {
          "base_uri": "https://localhost:8080/"
        },
        "id": "IcB_p56TIdV3",
        "outputId": "b74533cf-c0f7-475a-845b-b6d1a1b24cb6"
      },
      "source": [
        "import os\n",
        "import numpy as np\n",
        "import pandas as pd\n",
        "from PIL import Image\n",
        "from matplotlib import pyplot as plt\n",
        "import seaborn as sns\n",
        "import gc\n",
        "import torch\n",
        "print(torch.__version__)"
      ],
      "execution_count": 6,
      "outputs": [
        {
          "output_type": "stream",
          "text": [
            "1.9.0+cu102\n"
          ],
          "name": "stdout"
        }
      ]
    },
    {
      "cell_type": "code",
      "metadata": {
        "colab": {
          "base_uri": "https://localhost:8080/"
        },
        "id": "lnYsDwVaR-VP",
        "outputId": "3b0d021c-7b07-4c1d-addf-46ef364775b8"
      },
      "source": [
        "!ls"
      ],
      "execution_count": 7,
      "outputs": [
        {
          "output_type": "stream",
          "text": [
            "id_rsa\t     known_hosts      sample_submission.csv\t    train.log\n",
            "id_rsa.pub   old_leaky_data   seti-breakthrough-listen.zip\n",
            "input\t     output\t      test\n",
            "kaggle.json  outputtrain.log  train\n"
          ],
          "name": "stdout"
        }
      ]
    },
    {
      "cell_type": "code",
      "metadata": {
        "colab": {
          "base_uri": "https://localhost:8080/",
          "height": 391
        },
        "id": "sJYFFOl5If0M",
        "outputId": "c2b2f863-732f-4701-86d4-272458f2e0b8"
      },
      "source": [
        "train = pd.read_csv('./input/seti-breakthrough-listen/train_labels.csv')\n",
        "test = pd.read_csv('./input/seti-breakthrough-listen/sample_submission.csv')\n",
        "\n",
        "def get_train_file_path(image_id):\n",
        "    return \"../input/seti-breakthrough-listen/train/{}/{}.npy\".format(image_id[0], image_id)\n",
        "\n",
        "def get_test_file_path(image_id):\n",
        "    return \"../input/seti-breakthrough-listen/test/{}/{}.npy\".format(image_id[0], image_id)\n",
        "\n",
        "train['file_path'] = train['id'].apply(get_train_file_path)\n",
        "test['file_path'] = test['id'].apply(get_test_file_path)\n",
        "\n",
        "display(train.head())\n",
        "display(test.head())"
      ],
      "execution_count": 8,
      "outputs": [
        {
          "output_type": "display_data",
          "data": {
            "text/html": [
              "<div>\n",
              "<style scoped>\n",
              "    .dataframe tbody tr th:only-of-type {\n",
              "        vertical-align: middle;\n",
              "    }\n",
              "\n",
              "    .dataframe tbody tr th {\n",
              "        vertical-align: top;\n",
              "    }\n",
              "\n",
              "    .dataframe thead th {\n",
              "        text-align: right;\n",
              "    }\n",
              "</style>\n",
              "<table border=\"1\" class=\"dataframe\">\n",
              "  <thead>\n",
              "    <tr style=\"text-align: right;\">\n",
              "      <th></th>\n",
              "      <th>id</th>\n",
              "      <th>target</th>\n",
              "      <th>file_path</th>\n",
              "    </tr>\n",
              "  </thead>\n",
              "  <tbody>\n",
              "    <tr>\n",
              "      <th>0</th>\n",
              "      <td>0000799a2b2c42d</td>\n",
              "      <td>0</td>\n",
              "      <td>../input/seti-breakthrough-listen/train/0/0000...</td>\n",
              "    </tr>\n",
              "    <tr>\n",
              "      <th>1</th>\n",
              "      <td>00042890562ff68</td>\n",
              "      <td>0</td>\n",
              "      <td>../input/seti-breakthrough-listen/train/0/0004...</td>\n",
              "    </tr>\n",
              "    <tr>\n",
              "      <th>2</th>\n",
              "      <td>0005364cdcb8e5b</td>\n",
              "      <td>0</td>\n",
              "      <td>../input/seti-breakthrough-listen/train/0/0005...</td>\n",
              "    </tr>\n",
              "    <tr>\n",
              "      <th>3</th>\n",
              "      <td>0007a5a46901c56</td>\n",
              "      <td>0</td>\n",
              "      <td>../input/seti-breakthrough-listen/train/0/0007...</td>\n",
              "    </tr>\n",
              "    <tr>\n",
              "      <th>4</th>\n",
              "      <td>0009283e145448e</td>\n",
              "      <td>0</td>\n",
              "      <td>../input/seti-breakthrough-listen/train/0/0009...</td>\n",
              "    </tr>\n",
              "  </tbody>\n",
              "</table>\n",
              "</div>"
            ],
            "text/plain": [
              "                id  target                                          file_path\n",
              "0  0000799a2b2c42d       0  ../input/seti-breakthrough-listen/train/0/0000...\n",
              "1  00042890562ff68       0  ../input/seti-breakthrough-listen/train/0/0004...\n",
              "2  0005364cdcb8e5b       0  ../input/seti-breakthrough-listen/train/0/0005...\n",
              "3  0007a5a46901c56       0  ../input/seti-breakthrough-listen/train/0/0007...\n",
              "4  0009283e145448e       0  ../input/seti-breakthrough-listen/train/0/0009..."
            ]
          },
          "metadata": {
            "tags": []
          }
        },
        {
          "output_type": "display_data",
          "data": {
            "text/html": [
              "<div>\n",
              "<style scoped>\n",
              "    .dataframe tbody tr th:only-of-type {\n",
              "        vertical-align: middle;\n",
              "    }\n",
              "\n",
              "    .dataframe tbody tr th {\n",
              "        vertical-align: top;\n",
              "    }\n",
              "\n",
              "    .dataframe thead th {\n",
              "        text-align: right;\n",
              "    }\n",
              "</style>\n",
              "<table border=\"1\" class=\"dataframe\">\n",
              "  <thead>\n",
              "    <tr style=\"text-align: right;\">\n",
              "      <th></th>\n",
              "      <th>id</th>\n",
              "      <th>target</th>\n",
              "      <th>file_path</th>\n",
              "    </tr>\n",
              "  </thead>\n",
              "  <tbody>\n",
              "    <tr>\n",
              "      <th>0</th>\n",
              "      <td>000bf832cae9ff1</td>\n",
              "      <td>0.5</td>\n",
              "      <td>../input/seti-breakthrough-listen/test/0/000bf...</td>\n",
              "    </tr>\n",
              "    <tr>\n",
              "      <th>1</th>\n",
              "      <td>000c74cc71a1140</td>\n",
              "      <td>0.5</td>\n",
              "      <td>../input/seti-breakthrough-listen/test/0/000c7...</td>\n",
              "    </tr>\n",
              "    <tr>\n",
              "      <th>2</th>\n",
              "      <td>000f5f9851161d3</td>\n",
              "      <td>0.5</td>\n",
              "      <td>../input/seti-breakthrough-listen/test/0/000f5...</td>\n",
              "    </tr>\n",
              "    <tr>\n",
              "      <th>3</th>\n",
              "      <td>000f7499e95aba6</td>\n",
              "      <td>0.5</td>\n",
              "      <td>../input/seti-breakthrough-listen/test/0/000f7...</td>\n",
              "    </tr>\n",
              "    <tr>\n",
              "      <th>4</th>\n",
              "      <td>00133ce6ec257f9</td>\n",
              "      <td>0.5</td>\n",
              "      <td>../input/seti-breakthrough-listen/test/0/00133...</td>\n",
              "    </tr>\n",
              "  </tbody>\n",
              "</table>\n",
              "</div>"
            ],
            "text/plain": [
              "                id  target                                          file_path\n",
              "0  000bf832cae9ff1     0.5  ../input/seti-breakthrough-listen/test/0/000bf...\n",
              "1  000c74cc71a1140     0.5  ../input/seti-breakthrough-listen/test/0/000c7...\n",
              "2  000f5f9851161d3     0.5  ../input/seti-breakthrough-listen/test/0/000f5...\n",
              "3  000f7499e95aba6     0.5  ../input/seti-breakthrough-listen/test/0/000f7...\n",
              "4  00133ce6ec257f9     0.5  ../input/seti-breakthrough-listen/test/0/00133..."
            ]
          },
          "metadata": {
            "tags": []
          }
        }
      ]
    },
    {
      "cell_type": "code",
      "metadata": {
        "id": "wvKZXPpMIiRG"
      },
      "source": [
        "# ====================================================\n",
        "# Directory settings\n",
        "# ====================================================\n",
        "import os\n",
        "\n",
        "OUTPUT_DIR = './output'\n",
        "if not os.path.exists(OUTPUT_DIR):\n",
        "    os.makedirs(OUTPUT_DIR)"
      ],
      "execution_count": 9,
      "outputs": []
    },
    {
      "cell_type": "code",
      "metadata": {
        "id": "qmiTTXVKIlaZ"
      },
      "source": [
        "# ====================================================\n",
        "# CFG\n",
        "# ====================================================\n",
        "class CFG:\n",
        "    debug=False\n",
        "    print_freq=100\n",
        "    num_workers=4\n",
        "    model_name='efficientnet_b0'  #'efficientnet_b0', 'vit_base_patch16_224', 'tf_efficientnet_b4_ns'\n",
        "    input_size=512   #512, 768, 1028, 'original'\n",
        "    output_size=256 \n",
        "    scheduler='CosineAnnealingLR' #'ReduceLROnPlateau', 'CosineAnnealingLR'\n",
        "    epochs=25\n",
        "    factor=0.2 # ReduceLROnPlateau\n",
        "    patience=4 # ReduceLROnPlateau\n",
        "    eps=1e-6 # ReduceLROnPlateau\n",
        "    T_max=15 # CosineAnnealingLR\n",
        "    lr=1e-4\n",
        "    min_lr=1e-6\n",
        "    batch_size=20\n",
        "    optimizer='adamw'   #adamw', 'adam' \n",
        "    weight_decay=1e-6\n",
        "    gradient_accumulation_steps=1\n",
        "    max_grad_norm=1000\n",
        "    seed=42\n",
        "    target_size=1\n",
        "    target_col='target'\n",
        "    n_fold=5\n",
        "    trn_folds=[0]\n",
        "    train=True\n",
        "    mode='spatial_3'   #'channel_3', 'channel_6', 'spatial_3', spatial_6'\n",
        "    aug_mode='mixup'   #'mixup', 'fmix'\n",
        "    warmup_epochs=2\n",
        "    multiplier=10\n",
        "    epoch_no_aug=0\n",
        "    \n",
        "if CFG.debug:\n",
        "    CFG.epochs=3\n",
        "    train=train.sample(n=1000, random_state=CFG.seed).reset_index(drop=True)   "
      ],
      "execution_count": 10,
      "outputs": []
    },
    {
      "cell_type": "code",
      "metadata": {
        "colab": {
          "base_uri": "https://localhost:8080/"
        },
        "id": "ks3q4tVkIpXZ",
        "outputId": "88644192-3654-44d5-a665-fdf90876afeb"
      },
      "source": [
        "\n",
        "# ====================================================\n",
        "# Library\n",
        "# ====================================================\n",
        "import sys\n",
        "sys.path.append('./input/image-fmix/FMix-master')\n",
        "sys.path.append('./input/pytorch-image-models/pytorch-image-models-master')\n",
        "#print(sys.path)\n",
        "! pip install --upgrade --force-reinstall --no-deps albumentations\n",
        "! pip install timm\n",
        "from fmix import sample_mask\n",
        "\n",
        "import os\n",
        "import math\n",
        "import time\n",
        "import random\n",
        "import shutil\n",
        "from pathlib import Path\n",
        "from contextlib import contextmanager\n",
        "from collections import defaultdict, Counter\n",
        "\n",
        "from sklearn import preprocessing\n",
        "from sklearn.metrics import roc_auc_score\n",
        "from sklearn.model_selection import StratifiedKFold\n",
        "\n",
        "from tqdm.auto import tqdm\n",
        "from functools import partial\n",
        "\n",
        "import cv2\n",
        "from PIL import Image\n",
        "\n",
        "import torch\n",
        "import torch.nn as nn\n",
        "import torch.nn.functional as F\n",
        "from torch.optim import Adam, AdamW\n",
        "import torchvision.models as models\n",
        "from torch.nn.parameter import Parameter\n",
        "from torch.utils.data import DataLoader, Dataset\n",
        "from torch.optim.lr_scheduler import CosineAnnealingLR, ReduceLROnPlateau\n",
        "\n",
        "import albumentations as A\n",
        "from albumentations.pytorch.transforms import ToTensorV2\n",
        "from albumentations import ImageOnlyTransform\n",
        "\n",
        "import timm\n",
        "from warmup_scheduler import GradualWarmupScheduler\n",
        "from torch.cuda.amp import autocast, GradScaler\n",
        "\n",
        "import warnings \n",
        "warnings.filterwarnings('ignore')\n",
        "\n",
        "device = torch.device('cuda' if torch.cuda.is_available() else 'cpu')"
      ],
      "execution_count": 11,
      "outputs": [
        {
          "output_type": "stream",
          "text": [
            "Collecting albumentations\n",
            "  Using cached albumentations-1.0.3-py3-none-any.whl (98 kB)\n",
            "Installing collected packages: albumentations\n",
            "  Attempting uninstall: albumentations\n",
            "    Found existing installation: albumentations 1.0.3\n",
            "    Uninstalling albumentations-1.0.3:\n",
            "      Successfully uninstalled albumentations-1.0.3\n",
            "Successfully installed albumentations-1.0.3\n",
            "Requirement already satisfied: timm in /usr/local/lib/python3.7/dist-packages (0.4.12)\n",
            "Requirement already satisfied: torch>=1.4 in /usr/local/lib/python3.7/dist-packages (from timm) (1.9.0+cu102)\n",
            "Requirement already satisfied: torchvision in /usr/local/lib/python3.7/dist-packages (from timm) (0.10.0+cu102)\n",
            "Requirement already satisfied: typing-extensions in /usr/local/lib/python3.7/dist-packages (from torch>=1.4->timm) (3.7.4.3)\n",
            "Requirement already satisfied: pillow>=5.3.0 in /usr/local/lib/python3.7/dist-packages (from torchvision->timm) (7.1.2)\n",
            "Requirement already satisfied: numpy in /usr/local/lib/python3.7/dist-packages (from torchvision->timm) (1.19.5)\n"
          ],
          "name": "stdout"
        }
      ]
    },
    {
      "cell_type": "code",
      "metadata": {
        "id": "5_UZt-nzIvLL"
      },
      "source": [
        "# ====================================================\n",
        "# Utils\n",
        "# ====================================================\n",
        "def get_score(y_true, y_pred):\n",
        "    score = roc_auc_score(y_true, y_pred)\n",
        "    return score\n",
        "\n",
        "def init_logger(log_file=OUTPUT_DIR+'train.log'):\n",
        "    from logging import getLogger, INFO, FileHandler,  Formatter,  StreamHandler\n",
        "    logger = getLogger(__name__)\n",
        "    logger.setLevel(INFO)\n",
        "    handler1 = StreamHandler()\n",
        "    handler1.setFormatter(Formatter(\"%(message)s\"))\n",
        "    handler2 = FileHandler(filename=log_file)\n",
        "    handler2.setFormatter(Formatter(\"%(message)s\"))\n",
        "    logger.addHandler(handler1)\n",
        "    logger.addHandler(handler2)\n",
        "    return logger\n",
        "\n",
        "LOGGER = init_logger()\n",
        "\n",
        "def seed_torch(seed=42):\n",
        "    random.seed(seed)\n",
        "    os.environ['PYTHONHASHSEED'] = str(seed)\n",
        "    np.random.seed(seed)\n",
        "    torch.manual_seed(seed)\n",
        "    torch.cuda.manual_seed(seed)\n",
        "    torch.backends.cudnn.deterministic = True\n",
        "\n",
        "seed_torch(seed=CFG.seed)"
      ],
      "execution_count": 12,
      "outputs": []
    },
    {
      "cell_type": "code",
      "metadata": {
        "colab": {
          "base_uri": "https://localhost:8080/",
          "height": 71
        },
        "id": "FCMKuygFIyHn",
        "outputId": "e1df690e-bd15-4f6b-e8ac-defd4c23f39e"
      },
      "source": [
        "display(\"len(train): \"+str(len(train)))\n",
        "display(\"len(target==0): \"+str(len(train[train[\"target\"]==0])))\n",
        "display(\"len(target==1): \"+str(len(train[train[\"target\"]==1])))\n",
        "\n"
      ],
      "execution_count": 13,
      "outputs": [
        {
          "output_type": "display_data",
          "data": {
            "application/vnd.google.colaboratory.intrinsic+json": {
              "type": "string"
            },
            "text/plain": [
              "'len(train): 60000'"
            ]
          },
          "metadata": {
            "tags": []
          }
        },
        {
          "output_type": "display_data",
          "data": {
            "application/vnd.google.colaboratory.intrinsic+json": {
              "type": "string"
            },
            "text/plain": [
              "'len(target==0): 54000'"
            ]
          },
          "metadata": {
            "tags": []
          }
        },
        {
          "output_type": "display_data",
          "data": {
            "application/vnd.google.colaboratory.intrinsic+json": {
              "type": "string"
            },
            "text/plain": [
              "'len(target==1): 6000'"
            ]
          },
          "metadata": {
            "tags": []
          }
        }
      ]
    },
    {
      "cell_type": "code",
      "metadata": {
        "colab": {
          "base_uri": "https://localhost:8080/",
          "height": 221
        },
        "id": "2diKmJtHI7Gm",
        "outputId": "7f07fef8-77e2-47c9-a0ad-5a193b2c8478"
      },
      "source": [
        "train_1 = train[train[\"target\"]==1]\n",
        "train_0 = train[train[\"target\"]==0].sample(n=len(train_1))\n",
        "beta = len(train_1)/len(train)\n",
        "train = pd.concat([train_1, train_0]).reset_index()\n",
        "Fold = StratifiedKFold(n_splits=CFG.n_fold, shuffle=True, random_state=CFG.seed)\n",
        "for n, (train_index, val_index) in enumerate(Fold.split(train, train[CFG.target_col])):\n",
        "    train.loc[val_index, 'fold'] = int(n)\n",
        "train['fold'] = train['fold'].astype(int)\n",
        "display(train.groupby(['fold', 'target']).size())"
      ],
      "execution_count": 14,
      "outputs": [
        {
          "output_type": "display_data",
          "data": {
            "text/plain": [
              "fold  target\n",
              "0     0         1200\n",
              "      1         1200\n",
              "1     0         1200\n",
              "      1         1200\n",
              "2     0         1200\n",
              "      1         1200\n",
              "3     0         1200\n",
              "      1         1200\n",
              "4     0         1200\n",
              "      1         1200\n",
              "dtype: int64"
            ]
          },
          "metadata": {
            "tags": []
          }
        }
      ]
    },
    {
      "cell_type": "code",
      "metadata": {
        "id": "fY3n0iizyZ08"
      },
      "source": [
        "def probability_calibration(y_proba, beta):\n",
        "    \"\"\"サンプリングレートを元に確率を補正する\"\"\"\n",
        "    calibrated_proba = y_proba / (y_proba + (1 - y_proba) / beta)\n",
        "    return calibrated_proba"
      ],
      "execution_count": 15,
      "outputs": []
    },
    {
      "cell_type": "code",
      "metadata": {
        "id": "JzYWrvxGyZ4G"
      },
      "source": [
        "# ====================================================\n",
        "# Dataset\n",
        "# ====================================================\n",
        "class TrainDataset(Dataset):\n",
        "    def __init__(self, df, mode=CFG.mode, transform=None):\n",
        "        self.df = df\n",
        "        self.file_names = df['file_path'].values\n",
        "        self.labels = df[CFG.target_col].values\n",
        "        self.transform = transform\n",
        "        self.mode = mode\n",
        "        \n",
        "\n",
        "        \n",
        "    def __len__(self):\n",
        "        return len(self.df)\n",
        "\n",
        "    def __getitem__(self, idx):\n",
        "        file_path = self.file_names[idx][1:]\n",
        "        label = self.labels[idx]\n",
        "        image = np.load(file_path)\n",
        "        \n",
        "        if self.mode in ['spatial_3', 'channel_3']:\n",
        "            image = image[::2]\n",
        "            image = image.astype(np.float32)\n",
        "        else:\n",
        "            image = image.astype(np.float32)\n",
        "        if self.mode in ['spatial_3', 'spatial_6']: \n",
        "            image = np.vstack(image).transpose((1, 0))\n",
        "        elif self.mode in ['channel_3', 'channel_6']:\n",
        "            image = np.transpose(image, (1,2,0))\n",
        "            \n",
        "        if self.transform:\n",
        "            image = self.transform(image=image)['image']\n",
        "        else:\n",
        "            image = image[np.newaxis,:,:]\n",
        "            image = torch.from_numpy(image).float()\n",
        "            \n",
        "        label = torch.tensor(label).float()\n",
        "        return image, label\n",
        "    \n",
        "class TestDataset(Dataset):\n",
        "    def __init__(self, df, mode=CFG.mode, transform=None):\n",
        "        self.df = df\n",
        "        self.file_names = df['file_path'].values\n",
        "        self.transform = transform\n",
        "        self.mode = mode\n",
        "        \n",
        "    def __len__(self):\n",
        "        return len(self.df)\n",
        "\n",
        "    def __getitem__(self, idx):\n",
        "        file_path = self.file_names[idx][1:]\n",
        "        image = np.load(file_path)\n",
        "        if self.mode in ['spatial_3', 'channel_3']:\n",
        "            image = image[::2].astype(np.float32)\n",
        "        else:\n",
        "            image = image.astype(np.float32)\n",
        "        if self.mode in ['spatial_3', 'spatial_6']:\n",
        "            image = np.vstack(image).transpose((1, 0))\n",
        "        elif self.mode in ['channel_3', 'channel_6']:\n",
        "            image = np.transpose(image, (1,2,0))\n",
        "        if self.transform:\n",
        "            image = self.transform(image=image)['image']\n",
        "        else:\n",
        "            image = image[np.newaxis,:,:]\n",
        "            image = torch.from_numpy(image).float()\n",
        "        return image\n",
        "    \n",
        "def worker_init_fn(worker_id):                                                          \n",
        "    np.random.seed(np.random.get_state()[1][0] + worker_id)"
      ],
      "execution_count": 16,
      "outputs": []
    },
    {
      "cell_type": "code",
      "metadata": {
        "id": "P3aKBhH3yZ7N"
      },
      "source": [
        "# ====================================================\n",
        "# Transforms\n",
        "# ====================================================\n",
        "def get_transforms(*, data):\n",
        "    if data == 'train':\n",
        "        if type(CFG.input_size) == int:\n",
        "            return A.Compose([\n",
        "                   A.Resize(CFG.input_size, CFG.input_size),\n",
        "                   A.HorizontalFlip(p=.5),\n",
        "                   A.VerticalFlip(p=.5),\n",
        "                   A.ShiftScaleRotate(rotate_limit=0, p=.25),\n",
        "                   A.MotionBlur(p=.2),\n",
        "                   A.IAASharpen(p=.25),\n",
        "                   ToTensorV2(),\n",
        "            ])\n",
        "        else:\n",
        "            return A.Compose([\n",
        "                   A.HorizontalFlip(p=.5),\n",
        "                   A.VerticalFlip(p=.5),\n",
        "                   A.ShiftScaleRotate(rotate_limit=0, p=.25),\n",
        "                   A.MotionBlur(p=.2),\n",
        "                   A.IAASharpen(p=.25),\n",
        "                   ToTensorV2(),\n",
        "            ])\n",
        "            \n",
        "    elif data == 'valid':\n",
        "        if type(CFG.input_size) == int:\n",
        "            return A.Compose([\n",
        "                   A.Resize(CFG.input_size, CFG.input_size),\n",
        "                   ToTensorV2(),\n",
        "            ])\n",
        "        else:\n",
        "            return A.Compose([\n",
        "                   ToTensorV2(),\n",
        "            ])"
      ],
      "execution_count": 17,
      "outputs": []
    },
    {
      "cell_type": "code",
      "metadata": {
        "id": "5dCb_blAyiK5"
      },
      "source": [
        "# https://github.com/facebookresearch/mixup-cifar10/blob/master/train.py\n",
        "def mixup_data(x, y, alpha=1, use_cuda=True):\n",
        "    if alpha > 0:\n",
        "        lam = np.random.beta(alpha, alpha)\n",
        "    else:\n",
        "        lam = 1\n",
        "    batch_size = x.size()[0]\n",
        "    if use_cuda:\n",
        "        index = torch.randperm(batch_size).cuda()\n",
        "    else:\n",
        "        index = torch.randperm(batch_size)\n",
        "    mixed_x = (lam**.5) * x + ((1 - lam)**.5) * x[index, :]\n",
        "    y_a, y_b = y, y[index]\n",
        "    return mixed_x, y_a, y_b, lam\n",
        "\n",
        "def fmix_data(data, targets, alpha=1.0, \n",
        "              decay_power=3.0,\n",
        "              max_soft=0.0,\n",
        "              shape=(CFG.input_size, CFG.input_size),):\n",
        "    lam, mask = sample_mask(alpha, decay_power, shape, max_soft)\n",
        "    indices = torch.randperm(data.size(0)).cuda()\n",
        "    shuffled_data = data[indices]\n",
        "    \n",
        "    targets_a = targets\n",
        "    targets_b = targets[indices]\n",
        "    x1 = torch.from_numpy(mask).float()*data\n",
        "    x2 = torch.from_numpy(1-mask).float()*shuffled_data\n",
        "    return (x1+x2), targets_a, targets_b, lam\n",
        "\n",
        "def aug_criterion(criterion, pred, y_a, y_b, lam):\n",
        "    return lam * criterion(pred, y_a) + (1 - lam) * criterion(pred, y_b)"
      ],
      "execution_count": 18,
      "outputs": []
    },
    {
      "cell_type": "code",
      "metadata": {
        "id": "FuqaiAZtyiNy"
      },
      "source": [
        "# ====================================================\n",
        "# Model\n",
        "# ====================================================\n",
        "class CustomModel(nn.Module):\n",
        "    def __init__(self, cfg, pretrained=False):\n",
        "        super().__init__()\n",
        "        self.cfg = cfg\n",
        "        self.n = 16\n",
        "        self.slope = .1\n",
        "        self.r = 1\n",
        "        \n",
        "        if self.cfg.mode in ['spatial_3', 'spatial_6']: \n",
        "            self.cnn = timm.create_model(self.cfg.model_name, pretrained=pretrained, in_chans=1)\n",
        "        elif self.cfg.mode == 'channel_3':\n",
        "            self.cnn = timm.create_model(self.cfg.model_name, pretrained=pretrained, in_chans=3)\n",
        "        elif self.cfg.mode == 'channel_6':\n",
        "            self.cnn = timm.create_model(self.cfg.model_name, pretrained=pretrained, in_chans=6)\n",
        "        if hasattr(self.cnn, \"fc\"):\n",
        "            nb_ft = self.cnn.fc.in_features\n",
        "            self.cnn.fc = nn.Identity()\n",
        "        elif hasattr(self.cnn, \"_fc\"):\n",
        "            nb_ft = self.cnn._fc.in_features\n",
        "            self.cnn._fc = nn.Identity()\n",
        "        elif hasattr(self.cnn, \"classifier\"):\n",
        "            nb_ft = self.cnn.classifier.in_features\n",
        "            self.cnn.classifier = nn.Identity()\n",
        "        elif hasattr(self.cnn, \"last_linear\"):\n",
        "            nb_ft = self.cnn.last_linear.in_features\n",
        "            self.cnn.last_linear = nn.Identity()\n",
        "        elif hasattr(self.cnn, \"head\"):\n",
        "            nb_ft = self.cnn.head.in_features\n",
        "            self.cnn.head = nn.Identity()\n",
        "        \n",
        "        self.block1 = nn.Sequential(\n",
        "                nn.Conv2d(1, self.n, kernel_size=(7, 7), stride=(1,1), padding=(1, 1), bias=False),\n",
        "                nn.LeakyReLU(negative_slope=self.slope),\n",
        "                nn.Conv2d(self.n, self.n, kernel_size=(1, 1), stride=(1,1), padding=(1, 1), bias=False),\n",
        "                nn.LeakyReLU(negative_slope=self.slope),\n",
        "                nn.BatchNorm2d(self.n))\n",
        "        self.block2 = nn.Sequential(\n",
        "                nn.Conv2d(self.n, self.n, kernel_size=(3, 3), stride=(1,1), padding=(1, 1), bias=False),\n",
        "                nn.BatchNorm2d(self.n),\n",
        "                nn.LeakyReLU(negative_slope=self.slope),\n",
        "                nn.Conv2d(self.n, self.n, kernel_size=(3, 3), stride=(1,1), padding=(1, 1), bias=False),\n",
        "                nn.BatchNorm2d(self.n))\n",
        "        self.block3 = nn.Sequential(\n",
        "                nn.Conv2d(self.n, self.n, kernel_size=(3, 3), stride=(1,1), padding=(1, 1), bias=False),\n",
        "                nn.BatchNorm2d(self.n))\n",
        "        self.block4 = nn.Sequential(\n",
        "                nn.Conv2d(self.n, 1, kernel_size=(7, 7), stride=(1, 1), padding=(3, 3), bias=False))\n",
        "        self.fc = nn.Linear(nb_ft, self.cfg.target_size)\n",
        "\n",
        "    def forward(self, x):\n",
        "        res1 = F.interpolate(x, size=(self.cfg.output_size, self.cfg.output_size), mode='bilinear')\n",
        "        x = self.block1(x)\n",
        "        res2 = F.interpolate(x, size=(self.cfg.output_size, self.cfg.output_size), mode='bilinear')\n",
        "\n",
        "        x = self.block2(res2)\n",
        "        x += res2\n",
        "        if self.r > 1:\n",
        "            for _ in range(self.r):\n",
        "                res2 = x\n",
        "                x = self.block2(x)\n",
        "                x += res2\n",
        " \n",
        "        x = self.block3(x)\n",
        "        x += res2\n",
        "        \n",
        "        x = self.block4(x)\n",
        "        x += res1\n",
        "        \n",
        "        x = self.cnn(x)\n",
        "        x = self.fc(x)\n",
        "        return x"
      ],
      "execution_count": 19,
      "outputs": []
    },
    {
      "cell_type": "code",
      "metadata": {
        "id": "-75tgCiZyiQr"
      },
      "source": [
        "class GradualWarmupSchedulerV2(GradualWarmupScheduler):\n",
        "    def __init__(self, optimizer, multiplier, total_epoch, after_scheduler=None):\n",
        "        super(GradualWarmupSchedulerV2, self).__init__(optimizer, multiplier, total_epoch, after_scheduler)\n",
        "    def get_lr(self):\n",
        "        if self.last_epoch > self.total_epoch:\n",
        "            if self.after_scheduler:\n",
        "                if not self.finished:\n",
        "                    self.after_scheduler.base_lrs = [base_lr * self.multiplier for base_lr in self.base_lrs]\n",
        "                    self.finished = True\n",
        "                return self.after_scheduler.get_lr()\n",
        "            return [base_lr * self.multiplier for base_lr in self.base_lrs]\n",
        "        if self.multiplier == 1.0:\n",
        "            return [base_lr * (float(self.last_epoch) / self.total_epoch) for base_lr in self.base_lrs]\n",
        "        else:\n",
        "            return [base_lr * ((self.multiplier - 1.) * self.last_epoch / self.total_epoch + 1.) for base_lr in self.base_lrs]"
      ],
      "execution_count": 20,
      "outputs": []
    },
    {
      "cell_type": "code",
      "metadata": {
        "id": "9jx0xJ1VyiTt"
      },
      "source": [
        "# ====================================================\n",
        "# Helper functions\n",
        "# ====================================================\n",
        "class AverageMeter(object):\n",
        "    \"\"\"Computes and stores the average and current value\"\"\"\n",
        "    def __init__(self):\n",
        "        self.reset()\n",
        "\n",
        "    def reset(self):\n",
        "        self.val = 0\n",
        "        self.avg = 0\n",
        "        self.sum = 0\n",
        "        self.count = 0\n",
        "\n",
        "    def update(self, val, n=1):\n",
        "        self.val = val\n",
        "        self.sum += val * n\n",
        "        self.count += n\n",
        "        self.avg = self.sum / self.count\n",
        "\n",
        "def asMinutes(s):\n",
        "    m = math.floor(s / 60)\n",
        "    s -= m * 60\n",
        "    return '%dm %ds' % (m, s)\n",
        "\n",
        "\n",
        "def timeSince(since, percent):\n",
        "    now = time.time()\n",
        "    s = now - since\n",
        "    es = s / (percent)\n",
        "    rs = es - s\n",
        "    return '%s (remain %s)' % (asMinutes(s), asMinutes(rs))\n",
        "\n",
        "def train_fn(train_loader, model, criterion, optimizer, epoch, scheduler, device, mode):\n",
        "    batch_time = AverageMeter()\n",
        "    data_time = AverageMeter()\n",
        "    losses = AverageMeter()\n",
        "    scores = AverageMeter()\n",
        "    # switch to train mode\n",
        "    model.train()\n",
        "    start = end = time.time()\n",
        "    global_step = 0\n",
        "    for step, (images, labels) in enumerate(train_loader):\n",
        "        # measure data loading time\n",
        "        data_time.update(time.time() - end)\n",
        "        if mode == 'mixup':\n",
        "            images, targets_a, targets_b, lam = mixup_data(images, labels.view(-1, 1), use_cuda=True)\n",
        "            images = images.to(device)\n",
        "            targets_a = targets_a.to(device)\n",
        "            targets_b = targets_b.to(device)\n",
        "            y_preds = model(images)\n",
        "            loss = aug_criterion(criterion, y_preds, targets_a, targets_b, lam)\n",
        "            \n",
        "        elif mode == 'fmix':\n",
        "            images, targets_a, targets_b, lam = fmix_data(images, labels.view(-1, 1))\n",
        "            images = images.to(device)\n",
        "            targets_a = targets_a.to(device)\n",
        "            targets_b = targets_b.to(device)\n",
        "            y_preds = model(images)\n",
        "            loss = aug_criterion(criterion, y_preds, targets_a, targets_b, lam)\n",
        "\n",
        "        else:\n",
        "            images = images.to(device)\n",
        "            labels = labels.to(device)\n",
        "            y_preds = model(images)\n",
        "            loss = criterion(y_preds.view(-1), labels)\n",
        "            \n",
        "        batch_size = labels.size(0)\n",
        "        \n",
        "        # record loss\n",
        "        losses.update(loss.item(), batch_size)\n",
        "        if CFG.gradient_accumulation_steps > 1:\n",
        "            loss = loss / CFG.gradient_accumulation_steps\n",
        "        else:\n",
        "            loss.backward()\n",
        "        grad_norm = torch.nn.utils.clip_grad_norm_(model.parameters(), CFG.max_grad_norm)\n",
        "        if (step + 1) % CFG.gradient_accumulation_steps == 0:\n",
        "            optimizer.step()\n",
        "            optimizer.zero_grad()\n",
        "            global_step += 1\n",
        "        # measure elapsed time\n",
        "        batch_time.update(time.time() - end)\n",
        "        end = time.time()\n",
        "        if step % CFG.print_freq == 0 or step == (len(train_loader)-1):\n",
        "            print('Epoch: [{0}][{1}/{2}] '\n",
        "                  'Data {data_time.val:.3f} ({data_time.avg:.3f}) '\n",
        "                  'Elapsed {remain:s} '\n",
        "                  'Loss: {loss.val:.4f}({loss.avg:.4f}) '\n",
        "                  'Grad: {grad_norm:.4f}  '\n",
        "                  #'LR: {lr:.6f}  '\n",
        "                  .format(\n",
        "                   epoch+1, step, len(train_loader), batch_time=batch_time,\n",
        "                   data_time=data_time, loss=losses,\n",
        "                   remain=timeSince(start, float(step+1)/len(train_loader)),\n",
        "                   grad_norm=grad_norm,\n",
        "                   #lr=scheduler.get_lr()[0],\n",
        "                   ))\n",
        "    return losses.avg\n",
        "\n",
        "def valid_fn(valid_loader, model, criterion, device):\n",
        "    batch_time = AverageMeter()\n",
        "    data_time = AverageMeter()\n",
        "    losses = AverageMeter()\n",
        "    scores = AverageMeter()\n",
        "    # switch to evaluation mode\n",
        "    model.eval()\n",
        "    preds = []\n",
        "    start = end = time.time()\n",
        "    for step, (images, labels) in enumerate(valid_loader):\n",
        "        # measure data loading time\n",
        "        data_time.update(time.time() - end)\n",
        "        images = images.to(device)\n",
        "        labels = labels.to(device)\n",
        "        batch_size = labels.size(0)\n",
        "        # compute loss\n",
        "        with torch.no_grad():\n",
        "            y_preds = model(images)\n",
        "        \n",
        "        loss = criterion(y_preds.view(-1), labels)\n",
        "        losses.update(loss.item(), batch_size)\n",
        "        # record accuracy\n",
        "        preds.append(y_preds.sigmoid().to('cpu').numpy())\n",
        "        if CFG.gradient_accumulation_steps > 1:\n",
        "            loss = loss / CFG.gradient_accumulation_steps\n",
        "        # measure elapsed time\n",
        "        batch_time.update(time.time() - end)\n",
        "        end = time.time()\n",
        "        if step % CFG.print_freq == 0 or step == (len(valid_loader)-1):\n",
        "            print('EVAL: [{0}/{1}] '\n",
        "                  'Data {data_time.val:.3f} ({data_time.avg:.3f}) '\n",
        "                  'Elapsed {remain:s} '\n",
        "                  'Loss: {loss.val:.4f}({loss.avg:.4f}) '\n",
        "                  .format(\n",
        "                   step, len(valid_loader), batch_time=batch_time,\n",
        "                   data_time=data_time, loss=losses,\n",
        "                   remain=timeSince(start, float(step+1)/len(valid_loader)),\n",
        "                   ))\n",
        "    predictions = np.concatenate(preds)\n",
        "    return losses.avg, predictions\n",
        "\n",
        "def flip_inference(models, test_loader, device):\n",
        "    preds = []\n",
        "    for i, fold in enumerate(CFG.trn_folds):\n",
        "        model = models[i]\n",
        "        probs = []\n",
        "        for step, (images) in tqdm(enumerate(test_loader), total=len(test_loader)):\n",
        "            images = images.to(device)\n",
        "            with torch.no_grad():\n",
        "                y_preds1 = model(images)\n",
        "                y_preds2 = model(images.flip(-1))\n",
        "                y_preds3 = model(images.flip(-2))\n",
        "                y_preds4 = model(images.flip(-1).flip(-2))\n",
        "            y_preds = (y_preds1.sigmoid().to('cpu').numpy() + y_preds2.sigmoid().to('cpu').numpy() + y_preds3.sigmoid().to('cpu').numpy() + y_preds4.sigmoid().to('cpu').numpy()) / 4\n",
        "            probs.append(y_preds[:, 0])\n",
        "        preds.append(np.concatenate(probs))\n",
        "    return preds\n",
        "\n",
        "def get_models(CFG, mode='loss'):\n",
        "    models = []\n",
        "    for fold in CFG.trn_folds:\n",
        "        model = CustomModel(cfg=CFG, pretrained=False)\n",
        "        path = OUTPUT_DIR + f'{CFG.model_name}_fold{fold}_best_{mode}.pth'\n",
        "        model.load_state_dict(torch.load(path)['model'])\n",
        "        model.eval()\n",
        "        model.to(device)\n",
        "        models.append(model)\n",
        "    return models"
      ],
      "execution_count": 21,
      "outputs": []
    },
    {
      "cell_type": "code",
      "metadata": {
        "id": "m5aaktwayzTO"
      },
      "source": [
        "def train_loop(folds, fold):\n",
        "    \n",
        "    LOGGER.info(f\"========== fold: {fold} training ==========\")\n",
        "    # ====================================================\n",
        "    # loader\n",
        "    # ====================================================\n",
        "    trn_idx = folds[folds['fold'] != fold].index\n",
        "    val_idx = folds[folds['fold'] == fold].index\n",
        "\n",
        "    train_folds = folds.loc[trn_idx].reset_index(drop=True)\n",
        "    valid_folds = folds.loc[val_idx].reset_index(drop=True)\n",
        "    valid_labels = valid_folds[CFG.target_col].values\n",
        "\n",
        "    train_dataset = TrainDataset(train_folds, \n",
        "                                 transform=get_transforms(data='train'))\n",
        "    valid_dataset = TrainDataset(valid_folds, \n",
        "                                 transform=get_transforms(data='valid'))\n",
        "    train_loader = DataLoader(train_dataset, \n",
        "                              batch_size=CFG.batch_size, \n",
        "                              shuffle=True, \n",
        "                              num_workers=CFG.num_workers, pin_memory=True,\n",
        "                              drop_last=True, worker_init_fn=worker_init_fn)\n",
        "    valid_loader = DataLoader(valid_dataset, \n",
        "                              batch_size=CFG.batch_size * 2, \n",
        "                              shuffle=False, \n",
        "                              num_workers=CFG.num_workers, pin_memory=True, drop_last=False)\n",
        "    # ====================================================\n",
        "    # optimizer\n",
        "    # ====================================================\n",
        "    def get_optimizer(lr=CFG.lr):\n",
        "        if CFG.optimizer == 'adam':\n",
        "            optimizer = Adam(model.parameters(), lr=lr, weight_decay=CFG.weight_decay, amsgrad=False)\n",
        "        elif CFG.optimizer == 'adamw':\n",
        "            optimizer = AdamW(model.parameters(), lr=lr, weight_decay=CFG.weight_decay)\n",
        "        return optimizer\n",
        "    \n",
        "    # ====================================================\n",
        "    # criterion\n",
        "    # ====================================================\n",
        "    def get_criterion():\n",
        "        criterion = nn.BCEWithLogitsLoss()\n",
        "        return criterion\n",
        "    \n",
        "    # ====================================================\n",
        "    # scheduler\n",
        "    # ====================================================\n",
        "    def get_scheduler(optimizer):\n",
        "        if CFG.scheduler=='ReduceLROnPlateau':\n",
        "            scheduler = ReduceLROnPlateau(optimizer, mode='min', factor=CFG.factor, patience=CFG.patience, verbose=True, eps=CFG.eps)\n",
        "        elif CFG.scheduler=='CosineAnnealingLR':\n",
        "            scheduler = CosineAnnealingLR(optimizer, T_max=CFG.T_max, eta_min=CFG.min_lr, last_epoch=-1)\n",
        "        if CFG.warmup_epochs > 0:\n",
        "            scheduler = GradualWarmupSchedulerV2(optimizer, multiplier=CFG.multiplier,\n",
        "                                                 total_epoch=CFG.warmup_epochs, \n",
        "                                                 after_scheduler=scheduler)\n",
        "        return scheduler \n",
        "    \n",
        "    # ====================================================\n",
        "    # training loop\n",
        "    # ====================================================\n",
        "    model = CustomModel(CFG, pretrained=True)\n",
        "    model.to(device)\n",
        "    \n",
        "    optimizer = get_optimizer()\n",
        "    scheduler = get_scheduler(optimizer)\n",
        "    criterion = get_criterion()\n",
        "\n",
        "    best_score = 0.\n",
        "    best_loss = np.inf\n",
        "\n",
        "    for epoch in range(CFG.epochs + CFG.epoch_no_aug):\n",
        "        start_time = time.time()\n",
        "        \n",
        "        # train\n",
        "        if epoch < CFG.epochs:\n",
        "            avg_loss = train_fn(train_loader, model, criterion, optimizer,\n",
        "                                 epoch, scheduler,\n",
        "                                 device,\n",
        "                                 mode=CFG.aug_mode)\n",
        "        else:\n",
        "            optimizer = get_optimizer(lr=1e-6)\n",
        "            scheduler = ReduceLROnPlateau(optimizer, mode='min', factor=CFG.factor, patience=CFG.patience, verbose=True, eps=CFG.eps)\n",
        "            avg_loss = train_fn(train_loader, model, criterion, optimizer, epoch, scheduler, device, mode='none')\n",
        "\n",
        "        # eval\n",
        "        avg_val_loss, preds = valid_fn(valid_loader, model, criterion, device)\n",
        "        preds = probability_calibration(preds, beta)\n",
        "    \n",
        "        if isinstance(scheduler, ReduceLROnPlateau):\n",
        "            scheduler.step(avg_val_loss)\n",
        "        elif isinstance(scheduler, CosineAnnealingLR):\n",
        "            scheduler.step()\n",
        "        elif isinstance(scheduler, GradualWarmupSchedulerV2):\n",
        "            scheduler.step()\n",
        "\n",
        "        # scoring\n",
        "        score = get_score(valid_labels, preds)\n",
        "\n",
        "        elapsed = time.time() - start_time\n",
        "        LOGGER.info(f'Epoch {epoch+1} - avg_train_loss: {avg_loss:.4f}  avg_val_loss: {avg_val_loss:.4f}  time: {elapsed:.0f}s')\n",
        "        LOGGER.info(f'Epoch {epoch+1} - Score: {score:.4f}')\n",
        "\n",
        "        if score > best_score:\n",
        "            best_score = score\n",
        "            LOGGER.info(f'Epoch {epoch+1} - Save Best Score: {best_score:.4f} Model')\n",
        "            torch.save({'model': model.state_dict(), \n",
        "                        'preds': preds},\n",
        "                        OUTPUT_DIR+f'{CFG.model_name}_fold{fold}_best_score.pth')\n",
        "        \n",
        "        if avg_val_loss < best_loss:\n",
        "            best_loss = avg_val_loss\n",
        "            LOGGER.info(f'Epoch {epoch+1} - Save Best Loss: {best_loss:.4f} Model')\n",
        "            torch.save({'model': model.state_dict(), \n",
        "                        'preds': preds},\n",
        "                        OUTPUT_DIR+f'{CFG.model_name}_fold{fold}_best_loss.pth')\n",
        "    \n",
        "    valid_folds['preds'] = torch.load(OUTPUT_DIR+f'{CFG.model_name}_fold{fold}_best_loss.pth', \n",
        "                                      map_location=torch.device('cpu'))['preds']\n",
        "\n",
        "    return valid_folds"
      ],
      "execution_count": 22,
      "outputs": []
    },
    {
      "cell_type": "code",
      "metadata": {
        "id": "UNzxwwM7yzWG"
      },
      "source": [
        "# ====================================================\n",
        "# main\n",
        "# ====================================================\n",
        "def main():\n",
        "\n",
        "    \"\"\"\n",
        "    Prepare: 1.train \n",
        "    \"\"\"\n",
        "\n",
        "    def get_result(result_df):\n",
        "        preds = result_df['preds'].values\n",
        "        labels = result_df[CFG.target_col].values\n",
        "        score = get_score(labels, preds)\n",
        "        LOGGER.info(f'Score: {score:<.4f}')\n",
        "    \n",
        "    if CFG.train:\n",
        "        # train \n",
        "        oof_df = pd.DataFrame()\n",
        "        for fold in range(CFG.n_fold):\n",
        "            if fold in CFG.trn_folds:\n",
        "                _oof_df = train_loop(train, fold)\n",
        "                oof_df = pd.concat([oof_df, _oof_df])\n",
        "                LOGGER.info(f\"========== fold: {fold} result ==========\")\n",
        "                get_result(_oof_df)\n",
        "        # CV result\n",
        "        LOGGER.info(f\"========== CV ==========\")\n",
        "        get_result(oof_df)\n",
        "        # save result\n",
        "        oof_df.to_csv(OUTPUT_DIR+'oof_df.csv', index=False)"
      ],
      "execution_count": 23,
      "outputs": []
    },
    {
      "cell_type": "code",
      "metadata": {
        "colab": {
          "base_uri": "https://localhost:8080/"
        },
        "id": "SJhoC2wMyzZI",
        "outputId": "91923344-1fe2-4898-ee5d-ad65c8009b1f"
      },
      "source": [
        "if __name__ == '__main__':\n",
        "    main()\n"
      ],
      "execution_count": 24,
      "outputs": [
        {
          "output_type": "stream",
          "text": [
            "========== fold: 0 training ==========\n"
          ],
          "name": "stderr"
        },
        {
          "output_type": "stream",
          "text": [
            "Epoch: [1][0/480] Data 1.027 (1.027) Elapsed 0m 1s (remain 13m 30s) Loss: 0.6938(0.6938) Grad: 2.8114  \n",
            "Epoch: [1][100/480] Data 0.000 (0.010) Elapsed 0m 34s (remain 2m 8s) Loss: 0.6629(0.6968) Grad: 2.0503  \n",
            "Epoch: [1][200/480] Data 3.657 (1.903) Elapsed 7m 27s (remain 10m 21s) Loss: 0.6712(0.6986) Grad: 2.6826  \n",
            "Epoch: [1][300/480] Data 0.000 (3.052) Elapsed 16m 55s (remain 10m 3s) Loss: 0.7109(0.6989) Grad: 2.3410  \n",
            "Epoch: [1][400/480] Data 0.000 (3.910) Elapsed 28m 16s (remain 5m 34s) Loss: 0.7034(0.6982) Grad: 2.1752  \n",
            "Epoch: [1][479/480] Data 12.011 (4.822) Elapsed 41m 7s (remain 0m 0s) Loss: 0.6915(0.6988) Grad: 2.3084  \n",
            "EVAL: [0/60] Data 43.855 (43.855) Elapsed 0m 43s (remain 43m 14s) Loss: 0.7054(0.7054) \n"
          ],
          "name": "stdout"
        },
        {
          "output_type": "stream",
          "text": [
            "Epoch 1 - avg_train_loss: 0.6988  avg_val_loss: 0.6928  time: 3158s\n",
            "Epoch 1 - Score: 0.5274\n",
            "Epoch 1 - Save Best Score: 0.5274 Model\n"
          ],
          "name": "stderr"
        },
        {
          "output_type": "stream",
          "text": [
            "EVAL: [59/60] Data 0.000 (11.406) Elapsed 11m 30s (remain 0m 0s) Loss: 0.6464(0.6928) \n"
          ],
          "name": "stdout"
        },
        {
          "output_type": "stream",
          "text": [
            "Epoch 1 - Save Best Loss: 0.6928 Model\n"
          ],
          "name": "stderr"
        },
        {
          "output_type": "stream",
          "text": [
            "Epoch: [2][0/480] Data 1.184 (1.184) Elapsed 0m 1s (remain 13m 55s) Loss: 0.6852(0.6852) Grad: 1.5833  \n",
            "Epoch: [2][100/480] Data 0.000 (0.012) Elapsed 0m 39s (remain 2m 26s) Loss: 0.6747(0.7037) Grad: 1.0876  \n",
            "Epoch: [2][200/480] Data 0.001 (0.006) Elapsed 1m 14s (remain 1m 43s) Loss: 0.6842(0.7018) Grad: 0.9784  \n",
            "Epoch: [2][300/480] Data 0.000 (0.004) Elapsed 1m 50s (remain 1m 5s) Loss: 0.6933(0.7006) Grad: 0.5754  \n",
            "Epoch: [2][400/480] Data 0.000 (0.003) Elapsed 2m 25s (remain 0m 28s) Loss: 0.6735(0.6994) Grad: 0.9386  \n",
            "Epoch: [2][479/480] Data 0.000 (0.003) Elapsed 2m 52s (remain 0m 0s) Loss: 0.6792(0.6989) Grad: 0.7009  \n",
            "EVAL: [0/60] Data 2.266 (2.266) Elapsed 0m 2s (remain 2m 20s) Loss: 0.7112(0.7112) \n"
          ],
          "name": "stdout"
        },
        {
          "output_type": "stream",
          "text": [
            "Epoch 2 - avg_train_loss: 0.6989  avg_val_loss: 0.7151  time: 564s\n",
            "Epoch 2 - Score: 0.5077\n"
          ],
          "name": "stderr"
        },
        {
          "output_type": "stream",
          "text": [
            "EVAL: [59/60] Data 0.853 (6.415) Elapsed 6m 31s (remain 0m 0s) Loss: 0.7637(0.7151) \n",
            "Epoch: [3][0/480] Data 37.856 (37.856) Elapsed 0m 38s (remain 305m 0s) Loss: 0.7146(0.7146) Grad: 1.0582  \n",
            "Epoch: [3][100/480] Data 0.000 (9.048) Elapsed 15m 46s (remain 59m 10s) Loss: 0.7400(0.7004) Grad: 0.8661  \n",
            "Epoch: [3][200/480] Data 0.133 (6.838) Elapsed 23m 58s (remain 33m 16s) Loss: 0.7210(0.6987) Grad: 0.6090  \n",
            "Epoch: [3][300/480] Data 1.606 (6.096) Elapsed 32m 11s (remain 19m 8s) Loss: 0.7012(0.6974) Grad: 0.6899  \n",
            "Epoch: [3][400/480] Data 0.000 (5.350) Elapsed 37m 53s (remain 7m 27s) Loss: 0.6606(0.6974) Grad: 0.6085  \n",
            "Epoch: [3][479/480] Data 0.000 (4.871) Elapsed 41m 31s (remain 0m 0s) Loss: 0.6752(0.6973) Grad: 1.3825  \n",
            "EVAL: [0/60] Data 18.309 (18.309) Elapsed 0m 18s (remain 18m 6s) Loss: 0.6407(0.6407) \n"
          ],
          "name": "stdout"
        },
        {
          "output_type": "stream",
          "text": [
            "Epoch 3 - avg_train_loss: 0.6973  avg_val_loss: 0.6972  time: 2599s\n",
            "Epoch 3 - Score: 0.5015\n"
          ],
          "name": "stderr"
        },
        {
          "output_type": "stream",
          "text": [
            "EVAL: [59/60] Data 0.000 (1.677) Elapsed 1m 46s (remain 0m 0s) Loss: 0.7394(0.6972) \n",
            "Epoch: [4][0/480] Data 1.220 (1.220) Elapsed 0m 1s (remain 13m 35s) Loss: 0.7123(0.7123) Grad: 0.7730  \n",
            "Epoch: [4][100/480] Data 0.000 (0.013) Elapsed 0m 37s (remain 2m 20s) Loss: 0.6960(0.6950) Grad: 0.3427  \n",
            "Epoch: [4][200/480] Data 0.000 (0.007) Elapsed 1m 12s (remain 1m 41s) Loss: 0.6897(0.6950) Grad: 0.3464  \n",
            "Epoch: [4][300/480] Data 0.000 (0.005) Elapsed 1m 48s (remain 1m 4s) Loss: 0.6908(0.6961) Grad: 0.5302  \n",
            "Epoch: [4][400/480] Data 0.000 (0.004) Elapsed 2m 23s (remain 0m 28s) Loss: 0.6746(0.6953) Grad: 0.3678  \n",
            "Epoch: [4][479/480] Data 0.000 (0.003) Elapsed 2m 51s (remain 0m 0s) Loss: 0.6874(0.6945) Grad: 0.5230  \n",
            "EVAL: [0/60] Data 2.249 (2.249) Elapsed 0m 2s (remain 2m 18s) Loss: 0.6341(0.6341) \n"
          ],
          "name": "stdout"
        },
        {
          "output_type": "stream",
          "text": [
            "Epoch 4 - avg_train_loss: 0.6945  avg_val_loss: 0.6773  time: 200s\n",
            "Epoch 4 - Score: 0.6052\n",
            "Epoch 4 - Save Best Score: 0.6052 Model\n"
          ],
          "name": "stderr"
        },
        {
          "output_type": "stream",
          "text": [
            "EVAL: [59/60] Data 0.000 (0.373) Elapsed 0m 28s (remain 0m 0s) Loss: 0.6776(0.6773) \n"
          ],
          "name": "stdout"
        },
        {
          "output_type": "stream",
          "text": [
            "Epoch 4 - Save Best Loss: 0.6773 Model\n"
          ],
          "name": "stderr"
        },
        {
          "output_type": "stream",
          "text": [
            "Epoch: [5][0/480] Data 1.174 (1.174) Elapsed 0m 1s (remain 12m 59s) Loss: 0.7193(0.7193) Grad: 0.4436  \n",
            "Epoch: [5][100/480] Data 0.002 (0.012) Elapsed 0m 37s (remain 2m 20s) Loss: 0.6874(0.6922) Grad: 0.4466  \n",
            "Epoch: [5][200/480] Data 0.000 (0.006) Elapsed 1m 12s (remain 1m 40s) Loss: 0.7028(0.6898) Grad: 0.7707  \n",
            "Epoch: [5][300/480] Data 0.000 (0.004) Elapsed 1m 48s (remain 1m 4s) Loss: 0.6837(0.6879) Grad: 0.4265  \n",
            "Epoch: [5][400/480] Data 0.000 (0.003) Elapsed 2m 23s (remain 0m 28s) Loss: 0.6779(0.6862) Grad: 0.5579  \n",
            "Epoch: [5][479/480] Data 0.000 (0.003) Elapsed 2m 51s (remain 0m 0s) Loss: 0.6770(0.6847) Grad: 0.3741  \n",
            "EVAL: [0/60] Data 2.064 (2.064) Elapsed 0m 2s (remain 2m 8s) Loss: 0.6949(0.6949) \n"
          ],
          "name": "stdout"
        },
        {
          "output_type": "stream",
          "text": [
            "Epoch 5 - avg_train_loss: 0.6847  avg_val_loss: 0.6580  time: 200s\n",
            "Epoch 5 - Score: 0.6721\n",
            "Epoch 5 - Save Best Score: 0.6721 Model\n"
          ],
          "name": "stderr"
        },
        {
          "output_type": "stream",
          "text": [
            "EVAL: [59/60] Data 0.000 (0.373) Elapsed 0m 28s (remain 0m 0s) Loss: 0.5916(0.6580) \n"
          ],
          "name": "stdout"
        },
        {
          "output_type": "stream",
          "text": [
            "Epoch 5 - Save Best Loss: 0.6580 Model\n"
          ],
          "name": "stderr"
        },
        {
          "output_type": "stream",
          "text": [
            "Epoch: [6][0/480] Data 1.128 (1.128) Elapsed 0m 1s (remain 12m 36s) Loss: 0.6865(0.6865) Grad: 0.4549  \n",
            "Epoch: [6][100/480] Data 0.000 (0.012) Elapsed 0m 37s (remain 2m 20s) Loss: 0.6687(0.6774) Grad: 0.7134  \n",
            "Epoch: [6][200/480] Data 0.000 (0.006) Elapsed 1m 13s (remain 1m 41s) Loss: 0.7340(0.6741) Grad: 0.9658  \n",
            "Epoch: [6][300/480] Data 0.000 (0.004) Elapsed 1m 48s (remain 1m 4s) Loss: 0.5951(0.6719) Grad: 0.8327  \n",
            "Epoch: [6][400/480] Data 0.000 (0.003) Elapsed 2m 23s (remain 0m 28s) Loss: 0.6202(0.6721) Grad: 1.2536  \n",
            "Epoch: [6][479/480] Data 0.000 (0.022) Elapsed 3m 1s (remain 0m 0s) Loss: 0.6105(0.6715) Grad: 0.4702  \n",
            "EVAL: [0/60] Data 2.297 (2.297) Elapsed 0m 2s (remain 2m 23s) Loss: 0.5245(0.5245) \n"
          ],
          "name": "stdout"
        },
        {
          "output_type": "stream",
          "text": [
            "Epoch 6 - avg_train_loss: 0.6715  avg_val_loss: 0.5930  time: 211s\n",
            "Epoch 6 - Score: 0.7262\n",
            "Epoch 6 - Save Best Score: 0.7262 Model\n"
          ],
          "name": "stderr"
        },
        {
          "output_type": "stream",
          "text": [
            "EVAL: [59/60] Data 0.000 (0.373) Elapsed 0m 28s (remain 0m 0s) Loss: 0.6339(0.5930) \n"
          ],
          "name": "stdout"
        },
        {
          "output_type": "stream",
          "text": [
            "Epoch 6 - Save Best Loss: 0.5930 Model\n"
          ],
          "name": "stderr"
        },
        {
          "output_type": "stream",
          "text": [
            "Epoch: [7][0/480] Data 1.136 (1.136) Elapsed 0m 1s (remain 13m 30s) Loss: 0.5917(0.5917) Grad: 0.6595  \n",
            "Epoch: [7][100/480] Data 0.000 (0.012) Elapsed 0m 37s (remain 2m 21s) Loss: 0.6974(0.6689) Grad: 0.4627  \n",
            "Epoch: [7][200/480] Data 0.000 (0.006) Elapsed 1m 13s (remain 1m 41s) Loss: 0.6898(0.6687) Grad: 0.7924  \n",
            "Epoch: [7][300/480] Data 0.000 (0.004) Elapsed 1m 48s (remain 1m 4s) Loss: 0.7039(0.6675) Grad: 0.4181  \n",
            "Epoch: [7][400/480] Data 0.000 (0.003) Elapsed 2m 23s (remain 0m 28s) Loss: 0.5999(0.6652) Grad: 0.7765  \n",
            "Epoch: [7][479/480] Data 0.000 (0.003) Elapsed 2m 51s (remain 0m 0s) Loss: 0.7610(0.6609) Grad: 1.6378  \n",
            "EVAL: [0/60] Data 2.243 (2.243) Elapsed 0m 2s (remain 2m 19s) Loss: 0.6108(0.6108) \n"
          ],
          "name": "stdout"
        },
        {
          "output_type": "stream",
          "text": [
            "Epoch 7 - avg_train_loss: 0.6609  avg_val_loss: 0.5714  time: 200s\n",
            "Epoch 7 - Score: 0.7607\n",
            "Epoch 7 - Save Best Score: 0.7607 Model\n"
          ],
          "name": "stderr"
        },
        {
          "output_type": "stream",
          "text": [
            "EVAL: [59/60] Data 0.000 (0.368) Elapsed 0m 28s (remain 0m 0s) Loss: 0.4805(0.5714) \n"
          ],
          "name": "stdout"
        },
        {
          "output_type": "stream",
          "text": [
            "Epoch 7 - Save Best Loss: 0.5714 Model\n"
          ],
          "name": "stderr"
        },
        {
          "output_type": "stream",
          "text": [
            "Epoch: [8][0/480] Data 1.238 (1.238) Elapsed 0m 1s (remain 13m 35s) Loss: 0.7222(0.7222) Grad: 0.6001  \n",
            "Epoch: [8][100/480] Data 0.000 (0.013) Elapsed 0m 37s (remain 2m 22s) Loss: 0.6860(0.6597) Grad: 0.5825  \n",
            "Epoch: [8][200/480] Data 0.000 (0.007) Elapsed 1m 13s (remain 1m 42s) Loss: 0.6383(0.6572) Grad: 0.5366  \n",
            "Epoch: [8][300/480] Data 0.001 (0.005) Elapsed 1m 49s (remain 1m 4s) Loss: 0.6256(0.6554) Grad: 0.7646  \n",
            "Epoch: [8][400/480] Data 0.001 (0.004) Elapsed 2m 24s (remain 0m 28s) Loss: 0.6789(0.6544) Grad: 1.1885  \n",
            "Epoch: [8][479/480] Data 0.000 (0.003) Elapsed 2m 52s (remain 0m 0s) Loss: 0.6998(0.6544) Grad: 0.5259  \n",
            "EVAL: [0/60] Data 2.334 (2.334) Elapsed 0m 2s (remain 2m 23s) Loss: 0.6561(0.6561) \n"
          ],
          "name": "stdout"
        },
        {
          "output_type": "stream",
          "text": [
            "Epoch 8 - avg_train_loss: 0.6544  avg_val_loss: 0.5972  time: 201s\n",
            "Epoch 8 - Score: 0.7443\n"
          ],
          "name": "stderr"
        },
        {
          "output_type": "stream",
          "text": [
            "EVAL: [59/60] Data 0.000 (0.374) Elapsed 0m 28s (remain 0m 0s) Loss: 0.4770(0.5972) \n",
            "Epoch: [9][0/480] Data 1.250 (1.250) Elapsed 0m 1s (remain 13m 29s) Loss: 0.6693(0.6693) Grad: 0.6577  \n",
            "Epoch: [9][100/480] Data 0.000 (0.013) Elapsed 0m 37s (remain 2m 19s) Loss: 0.6935(0.6440) Grad: 0.3645  \n",
            "Epoch: [9][200/480] Data 0.001 (0.007) Elapsed 1m 12s (remain 1m 41s) Loss: 0.6479(0.6472) Grad: 0.3037  \n",
            "Epoch: [9][300/480] Data 0.000 (0.005) Elapsed 1m 48s (remain 1m 4s) Loss: 0.7230(0.6467) Grad: 0.5721  \n",
            "Epoch: [9][400/480] Data 0.000 (0.004) Elapsed 2m 24s (remain 0m 28s) Loss: 0.6077(0.6480) Grad: 0.2770  \n",
            "Epoch: [9][479/480] Data 0.000 (0.003) Elapsed 2m 51s (remain 0m 0s) Loss: 0.5415(0.6470) Grad: 0.3757  \n",
            "EVAL: [0/60] Data 2.273 (2.273) Elapsed 0m 2s (remain 2m 20s) Loss: 0.6576(0.6576) \n"
          ],
          "name": "stdout"
        },
        {
          "output_type": "stream",
          "text": [
            "Epoch 9 - avg_train_loss: 0.6470  avg_val_loss: 0.5740  time: 212s\n",
            "Epoch 9 - Score: 0.7703\n",
            "Epoch 9 - Save Best Score: 0.7703 Model\n"
          ],
          "name": "stderr"
        },
        {
          "output_type": "stream",
          "text": [
            "EVAL: [59/60] Data 0.058 (0.566) Elapsed 0m 40s (remain 0m 0s) Loss: 0.4298(0.5740) \n",
            "Epoch: [10][0/480] Data 0.971 (0.971) Elapsed 0m 1s (remain 12m 47s) Loss: 0.6521(0.6521) Grad: 0.5612  \n",
            "Epoch: [10][100/480] Data 0.000 (0.010) Elapsed 0m 37s (remain 2m 20s) Loss: 0.6505(0.6479) Grad: 0.7070  \n",
            "Epoch: [10][200/480] Data 0.003 (0.005) Elapsed 1m 12s (remain 1m 41s) Loss: 0.6054(0.6477) Grad: 0.3190  \n",
            "Epoch: [10][300/480] Data 0.001 (0.004) Elapsed 1m 48s (remain 1m 4s) Loss: 0.6817(0.6479) Grad: 0.4951  \n",
            "Epoch: [10][400/480] Data 0.000 (0.003) Elapsed 2m 23s (remain 0m 28s) Loss: 0.7255(0.6491) Grad: 0.6130  \n",
            "Epoch: [10][479/480] Data 0.000 (0.003) Elapsed 2m 51s (remain 0m 0s) Loss: 0.6066(0.6472) Grad: 0.5245  \n",
            "EVAL: [0/60] Data 2.218 (2.218) Elapsed 0m 2s (remain 2m 17s) Loss: 0.5869(0.5869) \n"
          ],
          "name": "stdout"
        },
        {
          "output_type": "stream",
          "text": [
            "Epoch 10 - avg_train_loss: 0.6472  avg_val_loss: 0.5585  time: 200s\n",
            "Epoch 10 - Score: 0.7747\n",
            "Epoch 10 - Save Best Score: 0.7747 Model\n"
          ],
          "name": "stderr"
        },
        {
          "output_type": "stream",
          "text": [
            "EVAL: [59/60] Data 0.000 (0.370) Elapsed 0m 28s (remain 0m 0s) Loss: 0.4419(0.5585) \n"
          ],
          "name": "stdout"
        },
        {
          "output_type": "stream",
          "text": [
            "Epoch 10 - Save Best Loss: 0.5585 Model\n"
          ],
          "name": "stderr"
        },
        {
          "output_type": "stream",
          "text": [
            "Epoch: [11][0/480] Data 1.132 (1.132) Elapsed 0m 1s (remain 13m 28s) Loss: 0.7790(0.7790) Grad: 0.7203  \n",
            "Epoch: [11][100/480] Data 0.001 (0.012) Elapsed 0m 37s (remain 2m 20s) Loss: 0.6362(0.6386) Grad: 0.3351  \n",
            "Epoch: [11][200/480] Data 0.001 (0.006) Elapsed 1m 12s (remain 1m 40s) Loss: 0.5352(0.6375) Grad: 0.7947  \n",
            "Epoch: [11][300/480] Data 0.001 (0.004) Elapsed 1m 48s (remain 1m 4s) Loss: 0.6823(0.6383) Grad: 0.9765  \n",
            "Epoch: [11][400/480] Data 0.000 (0.003) Elapsed 2m 23s (remain 0m 28s) Loss: 0.7410(0.6359) Grad: 0.6443  \n",
            "Epoch: [11][479/480] Data 0.000 (0.003) Elapsed 2m 51s (remain 0m 0s) Loss: 0.6261(0.6384) Grad: 0.5005  \n",
            "EVAL: [0/60] Data 2.387 (2.387) Elapsed 0m 2s (remain 2m 26s) Loss: 0.6591(0.6591) \n"
          ],
          "name": "stdout"
        },
        {
          "output_type": "stream",
          "text": [
            "Epoch 11 - avg_train_loss: 0.6384  avg_val_loss: 0.5767  time: 200s\n",
            "Epoch 11 - Score: 0.7795\n",
            "Epoch 11 - Save Best Score: 0.7795 Model\n"
          ],
          "name": "stderr"
        },
        {
          "output_type": "stream",
          "text": [
            "EVAL: [59/60] Data 0.000 (0.379) Elapsed 0m 28s (remain 0m 0s) Loss: 0.4291(0.5767) \n",
            "Epoch: [12][0/480] Data 1.222 (1.222) Elapsed 0m 1s (remain 14m 2s) Loss: 0.6807(0.6807) Grad: 0.3768  \n",
            "Epoch: [12][100/480] Data 0.000 (0.013) Elapsed 0m 37s (remain 2m 21s) Loss: 0.6104(0.6485) Grad: 0.4410  \n",
            "Epoch: [12][200/480] Data 0.001 (0.007) Elapsed 1m 13s (remain 1m 41s) Loss: 0.6533(0.6439) Grad: 0.4280  \n",
            "Epoch: [12][300/480] Data 0.000 (0.005) Elapsed 1m 48s (remain 1m 4s) Loss: 0.6337(0.6411) Grad: 0.2826  \n",
            "Epoch: [12][400/480] Data 0.001 (0.004) Elapsed 2m 24s (remain 0m 28s) Loss: 0.5738(0.6393) Grad: 0.7674  \n",
            "Epoch: [12][479/480] Data 9.728 (0.023) Elapsed 3m 2s (remain 0m 0s) Loss: 0.7195(0.6406) Grad: 0.5811  \n",
            "EVAL: [0/60] Data 2.349 (2.349) Elapsed 0m 2s (remain 2m 27s) Loss: 0.5877(0.5877) \n"
          ],
          "name": "stdout"
        },
        {
          "output_type": "stream",
          "text": [
            "Epoch 12 - avg_train_loss: 0.6406  avg_val_loss: 0.5454  time: 211s\n",
            "Epoch 12 - Score: 0.8002\n",
            "Epoch 12 - Save Best Score: 0.8002 Model\n"
          ],
          "name": "stderr"
        },
        {
          "output_type": "stream",
          "text": [
            "EVAL: [59/60] Data 0.000 (0.376) Elapsed 0m 28s (remain 0m 0s) Loss: 0.4788(0.5454) \n"
          ],
          "name": "stdout"
        },
        {
          "output_type": "stream",
          "text": [
            "Epoch 12 - Save Best Loss: 0.5454 Model\n"
          ],
          "name": "stderr"
        },
        {
          "output_type": "stream",
          "text": [
            "Epoch: [13][0/480] Data 1.181 (1.181) Elapsed 0m 1s (remain 13m 22s) Loss: 0.6324(0.6324) Grad: 0.3324  \n",
            "Epoch: [13][100/480] Data 0.001 (0.012) Elapsed 0m 37s (remain 2m 22s) Loss: 0.6179(0.6270) Grad: 0.4760  \n",
            "Epoch: [13][200/480] Data 0.000 (0.006) Elapsed 1m 13s (remain 1m 42s) Loss: 0.6363(0.6254) Grad: 0.5154  \n",
            "Epoch: [13][300/480] Data 0.001 (0.004) Elapsed 1m 49s (remain 1m 4s) Loss: 0.6216(0.6272) Grad: 0.3830  \n",
            "Epoch: [13][400/480] Data 0.000 (0.003) Elapsed 2m 24s (remain 0m 28s) Loss: 0.6508(0.6298) Grad: 0.7355  \n",
            "Epoch: [13][479/480] Data 0.000 (0.003) Elapsed 2m 52s (remain 0m 0s) Loss: 0.6159(0.6305) Grad: 0.3991  \n",
            "EVAL: [0/60] Data 2.332 (2.332) Elapsed 0m 2s (remain 2m 23s) Loss: 0.7326(0.7326) \n"
          ],
          "name": "stdout"
        },
        {
          "output_type": "stream",
          "text": [
            "Epoch 13 - avg_train_loss: 0.6305  avg_val_loss: 0.5716  time: 202s\n",
            "Epoch 13 - Score: 0.7861\n"
          ],
          "name": "stderr"
        },
        {
          "output_type": "stream",
          "text": [
            "EVAL: [59/60] Data 0.000 (0.374) Elapsed 0m 28s (remain 0m 0s) Loss: 0.3736(0.5716) \n",
            "Epoch: [14][0/480] Data 1.141 (1.141) Elapsed 0m 1s (remain 13m 49s) Loss: 0.5777(0.5777) Grad: 0.5990  \n",
            "Epoch: [14][100/480] Data 0.001 (0.012) Elapsed 0m 37s (remain 2m 20s) Loss: 0.6293(0.6257) Grad: 0.4953  \n",
            "Epoch: [14][200/480] Data 0.000 (0.006) Elapsed 1m 13s (remain 1m 41s) Loss: 0.6903(0.6254) Grad: 0.4864  \n",
            "Epoch: [14][300/480] Data 0.000 (0.004) Elapsed 1m 48s (remain 1m 4s) Loss: 0.5164(0.6276) Grad: 0.4468  \n",
            "Epoch: [14][400/480] Data 0.001 (0.003) Elapsed 2m 23s (remain 0m 28s) Loss: 0.6995(0.6286) Grad: 0.8574  \n",
            "Epoch: [14][479/480] Data 0.000 (0.003) Elapsed 2m 51s (remain 0m 0s) Loss: 0.6554(0.6273) Grad: 0.6113  \n",
            "EVAL: [0/60] Data 2.143 (2.143) Elapsed 0m 2s (remain 2m 13s) Loss: 0.6739(0.6739) \n"
          ],
          "name": "stdout"
        },
        {
          "output_type": "stream",
          "text": [
            "Epoch 14 - avg_train_loss: 0.6273  avg_val_loss: 0.5401  time: 201s\n",
            "Epoch 14 - Score: 0.8088\n",
            "Epoch 14 - Save Best Score: 0.8088 Model\n"
          ],
          "name": "stderr"
        },
        {
          "output_type": "stream",
          "text": [
            "EVAL: [59/60] Data 0.000 (0.371) Elapsed 0m 28s (remain 0m 0s) Loss: 0.3928(0.5401) \n"
          ],
          "name": "stdout"
        },
        {
          "output_type": "stream",
          "text": [
            "Epoch 14 - Save Best Loss: 0.5401 Model\n"
          ],
          "name": "stderr"
        },
        {
          "output_type": "stream",
          "text": [
            "Epoch: [15][0/480] Data 1.203 (1.203) Elapsed 0m 1s (remain 13m 40s) Loss: 0.6132(0.6132) Grad: 1.4561  \n",
            "Epoch: [15][100/480] Data 0.001 (0.013) Elapsed 0m 37s (remain 2m 21s) Loss: 0.7070(0.6263) Grad: 0.7881  \n",
            "Epoch: [15][200/480] Data 0.001 (0.007) Elapsed 1m 13s (remain 1m 41s) Loss: 0.6894(0.6212) Grad: 0.7992  \n",
            "Epoch: [15][300/480] Data 0.000 (0.005) Elapsed 1m 49s (remain 1m 4s) Loss: 0.6698(0.6243) Grad: 0.4919  \n",
            "Epoch: [15][400/480] Data 0.000 (0.029) Elapsed 2m 37s (remain 0m 31s) Loss: 0.5731(0.6235) Grad: 0.5167  \n",
            "Epoch: [15][479/480] Data 0.000 (0.025) Elapsed 3m 5s (remain 0m 0s) Loss: 0.4774(0.6221) Grad: 0.5455  \n",
            "EVAL: [0/60] Data 2.369 (2.369) Elapsed 0m 2s (remain 2m 26s) Loss: 0.7249(0.7249) \n"
          ],
          "name": "stdout"
        },
        {
          "output_type": "stream",
          "text": [
            "Epoch 15 - avg_train_loss: 0.6221  avg_val_loss: 0.5537  time: 215s\n",
            "Epoch 15 - Score: 0.8104\n",
            "Epoch 15 - Save Best Score: 0.8104 Model\n"
          ],
          "name": "stderr"
        },
        {
          "output_type": "stream",
          "text": [
            "EVAL: [59/60] Data 0.000 (0.373) Elapsed 0m 28s (remain 0m 0s) Loss: 0.3540(0.5537) \n",
            "Epoch: [16][0/480] Data 1.234 (1.234) Elapsed 0m 1s (remain 14m 30s) Loss: 0.6456(0.6456) Grad: 0.5609  \n",
            "Epoch: [16][100/480] Data 0.000 (0.013) Elapsed 0m 37s (remain 2m 22s) Loss: 0.6504(0.6309) Grad: 0.7400  \n",
            "Epoch: [16][200/480] Data 0.000 (0.007) Elapsed 1m 13s (remain 1m 42s) Loss: 0.6450(0.6234) Grad: 0.5150  \n",
            "Epoch: [16][300/480] Data 0.012 (0.005) Elapsed 1m 49s (remain 1m 5s) Loss: 0.5079(0.6195) Grad: 0.4731  \n",
            "Epoch: [16][400/480] Data 0.001 (0.004) Elapsed 2m 25s (remain 0m 28s) Loss: 0.7035(0.6199) Grad: 0.4740  \n",
            "Epoch: [16][479/480] Data 0.000 (0.003) Elapsed 2m 53s (remain 0m 0s) Loss: 0.7518(0.6223) Grad: 0.9328  \n",
            "EVAL: [0/60] Data 2.199 (2.199) Elapsed 0m 2s (remain 2m 18s) Loss: 0.6990(0.6990) \n"
          ],
          "name": "stdout"
        },
        {
          "output_type": "stream",
          "text": [
            "Epoch 16 - avg_train_loss: 0.6223  avg_val_loss: 0.5545  time: 202s\n",
            "Epoch 16 - Score: 0.8091\n"
          ],
          "name": "stderr"
        },
        {
          "output_type": "stream",
          "text": [
            "EVAL: [59/60] Data 0.000 (0.367) Elapsed 0m 28s (remain 0m 0s) Loss: 0.3898(0.5545) \n",
            "Epoch: [17][0/480] Data 1.089 (1.089) Elapsed 0m 1s (remain 13m 24s) Loss: 0.5715(0.5715) Grad: 0.4198  \n",
            "Epoch: [17][100/480] Data 0.000 (0.011) Elapsed 0m 37s (remain 2m 20s) Loss: 0.5957(0.6212) Grad: 0.5527  \n",
            "Epoch: [17][200/480] Data 0.000 (0.006) Elapsed 1m 13s (remain 1m 41s) Loss: 0.7246(0.6134) Grad: 1.0258  \n",
            "Epoch: [17][300/480] Data 0.001 (0.004) Elapsed 1m 48s (remain 1m 4s) Loss: 0.7729(0.6172) Grad: 0.7127  \n",
            "Epoch: [17][400/480] Data 0.001 (0.003) Elapsed 2m 24s (remain 0m 28s) Loss: 0.7141(0.6161) Grad: 1.0089  \n",
            "Epoch: [17][479/480] Data 0.000 (0.003) Elapsed 2m 51s (remain 0m 0s) Loss: 0.7043(0.6156) Grad: 0.9139  \n",
            "EVAL: [0/60] Data 2.322 (2.322) Elapsed 0m 2s (remain 2m 24s) Loss: 0.7352(0.7352) \n"
          ],
          "name": "stdout"
        },
        {
          "output_type": "stream",
          "text": [
            "Epoch 17 - avg_train_loss: 0.6156  avg_val_loss: 0.5509  time: 201s\n",
            "Epoch 17 - Score: 0.8097\n"
          ],
          "name": "stderr"
        },
        {
          "output_type": "stream",
          "text": [
            "EVAL: [59/60] Data 0.000 (0.374) Elapsed 0m 28s (remain 0m 0s) Loss: 0.3621(0.5509) \n",
            "Epoch: [18][0/480] Data 1.210 (1.210) Elapsed 0m 1s (remain 13m 21s) Loss: 0.6773(0.6773) Grad: 0.5694  \n",
            "Epoch: [18][100/480] Data 0.001 (0.013) Elapsed 0m 37s (remain 2m 20s) Loss: 0.6189(0.6186) Grad: 0.4233  \n",
            "Epoch: [18][200/480] Data 0.000 (0.007) Elapsed 1m 13s (remain 1m 41s) Loss: 0.6203(0.6184) Grad: 0.7187  \n",
            "Epoch: [18][300/480] Data 0.001 (0.005) Elapsed 1m 48s (remain 1m 4s) Loss: 0.6276(0.6185) Grad: 0.6649  \n",
            "Epoch: [18][400/480] Data 0.001 (0.004) Elapsed 2m 24s (remain 0m 28s) Loss: 0.4991(0.6172) Grad: 0.9367  \n",
            "Epoch: [18][479/480] Data 0.000 (0.003) Elapsed 2m 52s (remain 0m 0s) Loss: 0.5344(0.6158) Grad: 0.5520  \n",
            "EVAL: [0/60] Data 2.301 (2.301) Elapsed 0m 2s (remain 2m 23s) Loss: 0.7400(0.7400) \n"
          ],
          "name": "stdout"
        },
        {
          "output_type": "stream",
          "text": [
            "Epoch 18 - avg_train_loss: 0.6158  avg_val_loss: 0.5491  time: 201s\n",
            "Epoch 18 - Score: 0.8112\n",
            "Epoch 18 - Save Best Score: 0.8112 Model\n"
          ],
          "name": "stderr"
        },
        {
          "output_type": "stream",
          "text": [
            "EVAL: [59/60] Data 0.058 (0.370) Elapsed 0m 28s (remain 0m 0s) Loss: 0.3591(0.5491) \n",
            "Epoch: [19][0/480] Data 1.184 (1.184) Elapsed 0m 1s (remain 13m 36s) Loss: 0.5620(0.5620) Grad: 0.5824  \n",
            "Epoch: [19][100/480] Data 0.001 (0.012) Elapsed 0m 37s (remain 2m 20s) Loss: 0.6182(0.6137) Grad: 0.5636  \n",
            "Epoch: [19][200/480] Data 0.000 (0.006) Elapsed 1m 13s (remain 1m 41s) Loss: 0.6314(0.6131) Grad: 0.6024  \n",
            "Epoch: [19][300/480] Data 0.001 (0.051) Elapsed 2m 6s (remain 1m 15s) Loss: 0.6014(0.6107) Grad: 0.5494  \n",
            "Epoch: [19][400/480] Data 0.000 (0.038) Elapsed 2m 41s (remain 0m 31s) Loss: 0.7041(0.6140) Grad: 0.6000  \n",
            "Epoch: [19][479/480] Data 0.000 (0.032) Elapsed 3m 9s (remain 0m 0s) Loss: 0.6095(0.6139) Grad: 0.6456  \n",
            "EVAL: [0/60] Data 2.380 (2.380) Elapsed 0m 2s (remain 2m 27s) Loss: 0.7271(0.7271) \n"
          ],
          "name": "stdout"
        },
        {
          "output_type": "stream",
          "text": [
            "Epoch 19 - avg_train_loss: 0.6139  avg_val_loss: 0.5484  time: 219s\n",
            "Epoch 19 - Score: 0.8107\n"
          ],
          "name": "stderr"
        },
        {
          "output_type": "stream",
          "text": [
            "EVAL: [59/60] Data 0.000 (0.374) Elapsed 0m 28s (remain 0m 0s) Loss: 0.3662(0.5484) \n",
            "Epoch: [20][0/480] Data 1.049 (1.049) Elapsed 0m 1s (remain 13m 48s) Loss: 0.7065(0.7065) Grad: 0.8062  \n",
            "Epoch: [20][100/480] Data 0.002 (0.011) Elapsed 0m 37s (remain 2m 21s) Loss: 0.6372(0.6137) Grad: 0.3324  \n",
            "Epoch: [20][200/480] Data 0.000 (0.006) Elapsed 1m 13s (remain 1m 41s) Loss: 0.7181(0.6133) Grad: 0.7257  \n",
            "Epoch: [20][300/480] Data 0.001 (0.004) Elapsed 1m 48s (remain 1m 4s) Loss: 0.5837(0.6140) Grad: 0.6415  \n",
            "Epoch: [20][400/480] Data 0.000 (0.003) Elapsed 2m 24s (remain 0m 28s) Loss: 0.7180(0.6176) Grad: 0.5946  \n",
            "Epoch: [20][479/480] Data 0.000 (0.003) Elapsed 2m 51s (remain 0m 0s) Loss: 0.6182(0.6190) Grad: 0.7279  \n",
            "EVAL: [0/60] Data 2.238 (2.238) Elapsed 0m 2s (remain 2m 18s) Loss: 0.7303(0.7303) \n"
          ],
          "name": "stdout"
        },
        {
          "output_type": "stream",
          "text": [
            "Epoch 20 - avg_train_loss: 0.6190  avg_val_loss: 0.5484  time: 201s\n",
            "Epoch 20 - Score: 0.8139\n",
            "Epoch 20 - Save Best Score: 0.8139 Model\n"
          ],
          "name": "stderr"
        },
        {
          "output_type": "stream",
          "text": [
            "EVAL: [59/60] Data 0.000 (0.370) Elapsed 0m 28s (remain 0m 0s) Loss: 0.3722(0.5484) \n",
            "Epoch: [21][0/480] Data 1.244 (1.244) Elapsed 0m 1s (remain 13m 53s) Loss: 0.6278(0.6278) Grad: 0.8564  \n",
            "Epoch: [21][100/480] Data 0.001 (0.013) Elapsed 0m 37s (remain 2m 19s) Loss: 0.6455(0.6273) Grad: 0.5624  \n",
            "Epoch: [21][200/480] Data 0.001 (0.007) Elapsed 1m 12s (remain 1m 40s) Loss: 0.5652(0.6249) Grad: 0.5858  \n",
            "Epoch: [21][300/480] Data 0.000 (0.004) Elapsed 1m 47s (remain 1m 3s) Loss: 0.5792(0.6240) Grad: 0.5338  \n",
            "Epoch: [21][400/480] Data 0.000 (0.003) Elapsed 2m 22s (remain 0m 28s) Loss: 0.6510(0.6192) Grad: 0.8870  \n",
            "Epoch: [21][479/480] Data 0.000 (0.003) Elapsed 2m 49s (remain 0m 0s) Loss: 0.5068(0.6197) Grad: 0.4514  \n",
            "EVAL: [0/60] Data 2.254 (2.254) Elapsed 0m 2s (remain 2m 20s) Loss: 0.7676(0.7676) \n"
          ],
          "name": "stdout"
        },
        {
          "output_type": "stream",
          "text": [
            "Epoch 21 - avg_train_loss: 0.6197  avg_val_loss: 0.5581  time: 210s\n",
            "Epoch 21 - Score: 0.8122\n"
          ],
          "name": "stderr"
        },
        {
          "output_type": "stream",
          "text": [
            "EVAL: [59/60] Data 0.000 (0.562) Elapsed 0m 40s (remain 0m 0s) Loss: 0.3398(0.5581) \n",
            "Epoch: [22][0/480] Data 1.120 (1.120) Elapsed 0m 1s (remain 13m 44s) Loss: 0.5425(0.5425) Grad: 0.5918  \n",
            "Epoch: [22][100/480] Data 0.000 (0.012) Elapsed 0m 37s (remain 2m 20s) Loss: 0.5675(0.6162) Grad: 0.6325  \n",
            "Epoch: [22][200/480] Data 0.000 (0.006) Elapsed 1m 13s (remain 1m 41s) Loss: 0.5663(0.6189) Grad: 0.4868  \n",
            "Epoch: [22][300/480] Data 0.001 (0.004) Elapsed 1m 48s (remain 1m 4s) Loss: 0.6100(0.6210) Grad: 0.6641  \n",
            "Epoch: [22][400/480] Data 0.000 (0.003) Elapsed 2m 24s (remain 0m 28s) Loss: 0.6787(0.6204) Grad: 0.8056  \n",
            "Epoch: [22][479/480] Data 0.000 (0.003) Elapsed 2m 51s (remain 0m 0s) Loss: 0.5554(0.6204) Grad: 0.4888  \n",
            "EVAL: [0/60] Data 2.176 (2.176) Elapsed 0m 2s (remain 2m 17s) Loss: 0.6657(0.6657) \n"
          ],
          "name": "stdout"
        },
        {
          "output_type": "stream",
          "text": [
            "Epoch 22 - avg_train_loss: 0.6204  avg_val_loss: 0.5363  time: 200s\n",
            "Epoch 22 - Score: 0.8153\n",
            "Epoch 22 - Save Best Score: 0.8153 Model\n"
          ],
          "name": "stderr"
        },
        {
          "output_type": "stream",
          "text": [
            "EVAL: [59/60] Data 0.000 (0.368) Elapsed 0m 28s (remain 0m 0s) Loss: 0.3856(0.5363) \n"
          ],
          "name": "stdout"
        },
        {
          "output_type": "stream",
          "text": [
            "Epoch 22 - Save Best Loss: 0.5363 Model\n"
          ],
          "name": "stderr"
        },
        {
          "output_type": "stream",
          "text": [
            "Epoch: [23][0/480] Data 1.065 (1.065) Elapsed 0m 1s (remain 13m 23s) Loss: 0.5241(0.5241) Grad: 0.7326  \n",
            "Epoch: [23][100/480] Data 0.000 (0.011) Elapsed 0m 37s (remain 2m 21s) Loss: 0.6746(0.6145) Grad: 1.0235  \n",
            "Epoch: [23][200/480] Data 0.000 (0.006) Elapsed 1m 13s (remain 1m 41s) Loss: 0.5688(0.6184) Grad: 0.3342  \n",
            "Epoch: [23][300/480] Data 0.001 (0.004) Elapsed 1m 48s (remain 1m 4s) Loss: 0.5666(0.6163) Grad: 0.7356  \n",
            "Epoch: [23][400/480] Data 0.000 (0.003) Elapsed 2m 24s (remain 0m 28s) Loss: 0.6050(0.6198) Grad: 0.5264  \n",
            "Epoch: [23][479/480] Data 0.000 (0.003) Elapsed 2m 51s (remain 0m 0s) Loss: 0.5347(0.6179) Grad: 0.4517  \n",
            "EVAL: [0/60] Data 2.308 (2.308) Elapsed 0m 2s (remain 2m 22s) Loss: 0.6983(0.6983) \n"
          ],
          "name": "stdout"
        },
        {
          "output_type": "stream",
          "text": [
            "Epoch 23 - avg_train_loss: 0.6179  avg_val_loss: 0.5300  time: 201s\n",
            "Epoch 23 - Score: 0.8178\n",
            "Epoch 23 - Save Best Score: 0.8178 Model\n"
          ],
          "name": "stderr"
        },
        {
          "output_type": "stream",
          "text": [
            "EVAL: [59/60] Data 0.000 (0.369) Elapsed 0m 28s (remain 0m 0s) Loss: 0.3316(0.5300) \n"
          ],
          "name": "stdout"
        },
        {
          "output_type": "stream",
          "text": [
            "Epoch 23 - Save Best Loss: 0.5300 Model\n"
          ],
          "name": "stderr"
        },
        {
          "output_type": "stream",
          "text": [
            "Epoch: [24][0/480] Data 1.226 (1.226) Elapsed 0m 1s (remain 12m 54s) Loss: 0.6746(0.6746) Grad: 0.3776  \n",
            "Epoch: [24][100/480] Data 0.000 (0.013) Elapsed 0m 37s (remain 2m 20s) Loss: 0.7294(0.6130) Grad: 0.7814  \n",
            "Epoch: [24][200/480] Data 0.001 (0.007) Elapsed 1m 12s (remain 1m 40s) Loss: 0.6582(0.6140) Grad: 0.6109  \n",
            "Epoch: [24][300/480] Data 0.001 (0.005) Elapsed 1m 48s (remain 1m 4s) Loss: 0.5616(0.6166) Grad: 0.4304  \n",
            "Epoch: [24][400/480] Data 0.001 (0.004) Elapsed 2m 23s (remain 0m 28s) Loss: 0.6869(0.6190) Grad: 0.9964  \n",
            "Epoch: [24][479/480] Data 0.000 (0.003) Elapsed 2m 51s (remain 0m 0s) Loss: 0.6244(0.6194) Grad: 0.5743  \n",
            "EVAL: [0/60] Data 2.292 (2.292) Elapsed 0m 2s (remain 2m 22s) Loss: 0.7389(0.7389) \n"
          ],
          "name": "stdout"
        },
        {
          "output_type": "stream",
          "text": [
            "Epoch 24 - avg_train_loss: 0.6194  avg_val_loss: 0.5493  time: 214s\n",
            "Epoch 24 - Score: 0.8167\n"
          ],
          "name": "stderr"
        },
        {
          "output_type": "stream",
          "text": [
            "EVAL: [59/60] Data 0.000 (0.586) Elapsed 0m 41s (remain 0m 0s) Loss: 0.3365(0.5493) \n",
            "Epoch: [25][0/480] Data 1.207 (1.207) Elapsed 0m 1s (remain 14m 24s) Loss: 0.7755(0.7755) Grad: 0.8721  \n",
            "Epoch: [25][100/480] Data 0.001 (0.012) Elapsed 0m 37s (remain 2m 20s) Loss: 0.5530(0.6173) Grad: 0.5875  \n",
            "Epoch: [25][200/480] Data 0.000 (0.007) Elapsed 1m 13s (remain 1m 41s) Loss: 0.5948(0.6236) Grad: 0.7512  \n",
            "Epoch: [25][300/480] Data 0.000 (0.005) Elapsed 1m 48s (remain 1m 4s) Loss: 0.5972(0.6243) Grad: 1.2978  \n",
            "Epoch: [25][400/480] Data 0.002 (0.004) Elapsed 2m 24s (remain 0m 28s) Loss: 0.6179(0.6228) Grad: 0.7811  \n",
            "Epoch: [25][479/480] Data 0.000 (0.003) Elapsed 2m 51s (remain 0m 0s) Loss: 0.5644(0.6228) Grad: 0.6011  \n",
            "EVAL: [0/60] Data 2.031 (2.031) Elapsed 0m 2s (remain 2m 6s) Loss: 0.6675(0.6675) \n"
          ],
          "name": "stdout"
        },
        {
          "output_type": "stream",
          "text": [
            "Epoch 25 - avg_train_loss: 0.6228  avg_val_loss: 0.5355  time: 201s\n",
            "Epoch 25 - Score: 0.8152\n"
          ],
          "name": "stderr"
        },
        {
          "output_type": "stream",
          "text": [
            "EVAL: [59/60] Data 0.000 (0.370) Elapsed 0m 28s (remain 0m 0s) Loss: 0.3956(0.5355) \n"
          ],
          "name": "stdout"
        },
        {
          "output_type": "stream",
          "text": [
            "========== fold: 0 result ==========\n",
            "Score: 0.8178\n",
            "========== CV ==========\n",
            "Score: 0.8178\n"
          ],
          "name": "stderr"
        }
      ]
    },
    {
      "cell_type": "code",
      "metadata": {
        "colab": {
          "base_uri": "https://localhost:8080/",
          "height": 81,
          "referenced_widgets": [
            "6bd753c60e93494fa3de0dee1e9a7864",
            "0888e15a88934029b99f5fa7c8016800",
            "be460faa8afa42639919baccf43a53c1",
            "025d02ea654a4f1498b8d2f1dc1895c3",
            "380bb848b98d4528860ddf166f3be4b4",
            "87dcb712cbe14fabb77ca377fbe01b8c",
            "a986df535cc8416b86a65948d9289b04",
            "8218d95f700e469aaf016b396ff31fea",
            "d182cc66b50945eda752047e85ec7339",
            "a75859ba0bac4f4793575c9d5dceedbb",
            "9272203e43574a6da44ef983f0f70370",
            "3874297ace104aea88e472e55b7d7f35",
            "3eab6f37e2194d3d8756777e6ad8152e",
            "6ac928640753448d91fed9060f23c648",
            "7a9faaca536e449db717d2c8d74bc882",
            "8c11286e04c449d7a8337a573da9b1d2",
            "d0f0224d12e94978a893b624faccad24",
            "23fc71be9905447d8832c6a6080bef44",
            "ffde54a2240e44a1bb45bafd570c4412",
            "395508b506914367a1d5e5c9285c448f",
            "8e854fd6040c4678b1a34ff343ddb255",
            "a33e6c685e78461b973c719c6100fd14"
          ]
        },
        "id": "eklb1VuYyzcV",
        "outputId": "bad3aa10-ced9-47fc-cc1c-77482ef8ae4e"
      },
      "source": [
        "models = get_models(CFG, mode='loss')\n",
        "models_ = get_models(CFG, mode='score')\n",
        "test_dataset = TestDataset(test, transform=get_transforms(data='valid'))\n",
        "test_loader = DataLoader(test_dataset, batch_size=CFG.batch_size*2, shuffle=False, \n",
        "                         num_workers=CFG.num_workers, pin_memory=True)\n",
        "fold_preds = flip_inference(models, test_loader, device)\n",
        "fold_preds_ = flip_inference(models_, test_loader, device)\n",
        "preds = np.mean(fold_preds, axis=0)\n",
        "preds_ = np.mean(fold_preds_, axis=0)\n",
        "preds = probability_calibration(preds, beta)\n",
        "preds_ = probability_calibration(preds_, beta)"
      ],
      "execution_count": 25,
      "outputs": [
        {
          "output_type": "display_data",
          "data": {
            "application/vnd.jupyter.widget-view+json": {
              "model_id": "6bd753c60e93494fa3de0dee1e9a7864",
              "version_major": 2,
              "version_minor": 0
            },
            "text/plain": [
              "  0%|          | 0/1000 [00:00<?, ?it/s]"
            ]
          },
          "metadata": {
            "tags": []
          }
        },
        {
          "output_type": "display_data",
          "data": {
            "application/vnd.jupyter.widget-view+json": {
              "model_id": "3874297ace104aea88e472e55b7d7f35",
              "version_minor": 0,
              "version_major": 2
            },
            "text/plain": [
              "  0%|          | 0/1000 [00:00<?, ?it/s]"
            ]
          },
          "metadata": {
            "tags": []
          }
        }
      ]
    },
    {
      "cell_type": "code",
      "metadata": {
        "colab": {
          "base_uri": "https://localhost:8080/",
          "height": 419
        },
        "id": "XXT0_CU5zGmq",
        "outputId": "0840f569-0d29-4f01-e20f-b1cbc100d2c5"
      },
      "source": [
        "test = test[['id', 'target']]\n",
        "test[CFG.target_col] = (preds + preds_) / 2\n",
        "test.to_csv(OUTPUT_DIR+'submission.csv', index=False)\n",
        "display(test)"
      ],
      "execution_count": 26,
      "outputs": [
        {
          "output_type": "display_data",
          "data": {
            "text/html": [
              "<div>\n",
              "<style scoped>\n",
              "    .dataframe tbody tr th:only-of-type {\n",
              "        vertical-align: middle;\n",
              "    }\n",
              "\n",
              "    .dataframe tbody tr th {\n",
              "        vertical-align: top;\n",
              "    }\n",
              "\n",
              "    .dataframe thead th {\n",
              "        text-align: right;\n",
              "    }\n",
              "</style>\n",
              "<table border=\"1\" class=\"dataframe\">\n",
              "  <thead>\n",
              "    <tr style=\"text-align: right;\">\n",
              "      <th></th>\n",
              "      <th>id</th>\n",
              "      <th>target</th>\n",
              "    </tr>\n",
              "  </thead>\n",
              "  <tbody>\n",
              "    <tr>\n",
              "      <th>0</th>\n",
              "      <td>000bf832cae9ff1</td>\n",
              "      <td>0.024246</td>\n",
              "    </tr>\n",
              "    <tr>\n",
              "      <th>1</th>\n",
              "      <td>000c74cc71a1140</td>\n",
              "      <td>0.083529</td>\n",
              "    </tr>\n",
              "    <tr>\n",
              "      <th>2</th>\n",
              "      <td>000f5f9851161d3</td>\n",
              "      <td>0.077155</td>\n",
              "    </tr>\n",
              "    <tr>\n",
              "      <th>3</th>\n",
              "      <td>000f7499e95aba6</td>\n",
              "      <td>0.127361</td>\n",
              "    </tr>\n",
              "    <tr>\n",
              "      <th>4</th>\n",
              "      <td>00133ce6ec257f9</td>\n",
              "      <td>0.042043</td>\n",
              "    </tr>\n",
              "    <tr>\n",
              "      <th>...</th>\n",
              "      <td>...</td>\n",
              "      <td>...</td>\n",
              "    </tr>\n",
              "    <tr>\n",
              "      <th>39990</th>\n",
              "      <td>fff701540fb8aad</td>\n",
              "      <td>0.070072</td>\n",
              "    </tr>\n",
              "    <tr>\n",
              "      <th>39991</th>\n",
              "      <td>fff9d92a46ea99a</td>\n",
              "      <td>0.090400</td>\n",
              "    </tr>\n",
              "    <tr>\n",
              "      <th>39992</th>\n",
              "      <td>fffa40260ffe43d</td>\n",
              "      <td>0.050091</td>\n",
              "    </tr>\n",
              "    <tr>\n",
              "      <th>39993</th>\n",
              "      <td>fffbc626c9d269f</td>\n",
              "      <td>0.034362</td>\n",
              "    </tr>\n",
              "    <tr>\n",
              "      <th>39994</th>\n",
              "      <td>fffd28bc31bd500</td>\n",
              "      <td>0.337537</td>\n",
              "    </tr>\n",
              "  </tbody>\n",
              "</table>\n",
              "<p>39995 rows × 2 columns</p>\n",
              "</div>"
            ],
            "text/plain": [
              "                    id    target\n",
              "0      000bf832cae9ff1  0.024246\n",
              "1      000c74cc71a1140  0.083529\n",
              "2      000f5f9851161d3  0.077155\n",
              "3      000f7499e95aba6  0.127361\n",
              "4      00133ce6ec257f9  0.042043\n",
              "...                ...       ...\n",
              "39990  fff701540fb8aad  0.070072\n",
              "39991  fff9d92a46ea99a  0.090400\n",
              "39992  fffa40260ffe43d  0.050091\n",
              "39993  fffbc626c9d269f  0.034362\n",
              "39994  fffd28bc31bd500  0.337537\n",
              "\n",
              "[39995 rows x 2 columns]"
            ]
          },
          "metadata": {
            "tags": []
          }
        }
      ]
    }
  ]
}